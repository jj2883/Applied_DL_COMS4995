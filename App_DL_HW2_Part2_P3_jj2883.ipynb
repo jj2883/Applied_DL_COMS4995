{
  "nbformat": 4,
  "nbformat_minor": 0,
  "metadata": {
    "colab": {
      "name": "App_DL_HW2_Part2_P3_jj2883.ipynb",
      "version": "0.3.2",
      "provenance": [],
      "collapsed_sections": [],
      "include_colab_link": true
    },
    "kernelspec": {
      "name": "python3",
      "display_name": "Python 3"
    },
    "accelerator": "GPU"
  },
  "cells": [
    {
      "cell_type": "markdown",
      "metadata": {
        "id": "view-in-github",
        "colab_type": "text"
      },
      "source": [
        "<a href=\"https://colab.research.google.com/github/jj2883/Applied_DL_COMS4995/blob/master/App_DL_HW2_Part2_P3_jj2883.ipynb\" target=\"_parent\"><img src=\"https://colab.research.google.com/assets/colab-badge.svg\" alt=\"Open In Colab\"/></a>"
      ]
    },
    {
      "metadata": {
        "id": "weuAoWzzAu_w",
        "colab_type": "code",
        "colab": {}
      },
      "cell_type": "code",
      "source": [
        "import matplotlib.pyplot as plt\n",
        "import numpy as np\n",
        "import os\n",
        "\n",
        "# The code in this notebook should work identically in TF v1 and v2\n",
        "import tensorflow as tf\n",
        "import zipfile\n",
        "\n",
        "from tensorflow.keras.applications import MobileNet, NASNetMobile, DenseNet121, VGG16, Xception, InceptionV3, ResNet50\n",
        "from tensorflow.keras.layers import Conv2D, Dense, Dropout, Flatten, MaxPooling2D\n",
        "from tensorflow.keras.models import Sequential\n",
        "from tensorflow.keras.preprocessing.image import ImageDataGenerator\n",
        "from tensorflow.keras import optimizers"
      ],
      "execution_count": 0,
      "outputs": []
    },
    {
      "metadata": {
        "id": "EjaSyzZgNAPB",
        "colab_type": "code",
        "outputId": "15b3e880-7c0c-4c2e-a76f-d7aa6f888b57",
        "colab": {
          "base_uri": "https://localhost:8080/",
          "height": 125
        }
      },
      "cell_type": "code",
      "source": [
        "#mount google drive\n",
        "from google.colab import drive, files\n",
        "drive.mount('/content/drive')"
      ],
      "execution_count": 2,
      "outputs": [
        {
          "output_type": "stream",
          "text": [
            "Go to this URL in a browser: https://accounts.google.com/o/oauth2/auth?client_id=947318989803-6bn6qk8qdgf4n4g3pfee6491hc0brc4i.apps.googleusercontent.com&redirect_uri=urn%3Aietf%3Awg%3Aoauth%3A2.0%3Aoob&scope=email%20https%3A%2F%2Fwww.googleapis.com%2Fauth%2Fdocs.test%20https%3A%2F%2Fwww.googleapis.com%2Fauth%2Fdrive%20https%3A%2F%2Fwww.googleapis.com%2Fauth%2Fdrive.photos.readonly%20https%3A%2F%2Fwww.googleapis.com%2Fauth%2Fpeopleapi.readonly&response_type=code\n",
            "\n",
            "Enter your authorization code:\n",
            "··········\n",
            "Mounted at /content/drive\n"
          ],
          "name": "stdout"
        }
      ]
    },
    {
      "metadata": {
        "id": "LKqy9HGQBQIj",
        "colab_type": "code",
        "colab": {}
      },
      "cell_type": "code",
      "source": [
        "base_dir = '/content/drive/My Drive/App_DL_hw2/app_DL_hw2_dataset'\n",
        "train_dir = os.path.join(base_dir, 'train')\n",
        "validation_dir = os.path.join(base_dir, 'validation')\n",
        "test_dir = os.path.join(base_dir, 'test')\n",
        "\n",
        "train_mater_dir = os.path.join(train_dir, 'mater')\n",
        "train_matelier_dir = os.path.join(train_dir, 'matelier')\n",
        "train_amringe_dir = os.path.join(train_dir, 'amringe')\n",
        "\n",
        "validation_mater_dir = os.path.join(validation_dir, 'mater')\n",
        "validation_matelier_dir = os.path.join(validation_dir, 'matelier')\n",
        "validation_amringe_dir = os.path.join(validation_dir, 'amringe')\n",
        "\n",
        "\n",
        "test_mater_dir = os.path.join(test_dir, 'mater')\n",
        "test_matelier_dir = os.path.join(test_dir, 'matelier')\n",
        "test_amringe_dir = os.path.join(test_dir, 'amringe')"
      ],
      "execution_count": 0,
      "outputs": []
    },
    {
      "metadata": {
        "id": "maha4K_3BQLK",
        "colab_type": "code",
        "colab": {}
      },
      "cell_type": "code",
      "source": [
        "num_mater_tr = len(os.listdir(train_mater_dir))\n",
        "num_matelier_tr = len(os.listdir(train_matelier_dir))\n",
        "num_amringe_tr = len(os.listdir(train_amringe_dir))\n",
        "\n",
        "num_mater_val = len(os.listdir(validation_mater_dir))\n",
        "num_matelier_val = len(os.listdir(validation_matelier_dir))\n",
        "num_amringe_val = len(os.listdir(validation_amringe_dir))\n",
        "\n",
        "num_mater_test = len(os.listdir(test_mater_dir))\n",
        "num_matelier_test = len(os.listdir(test_matelier_dir))\n",
        "num_amringe_test = len(os.listdir(test_amringe_dir))\n",
        "\n",
        "total_train = num_mater_tr + num_matelier_tr + num_amringe_tr\n",
        "total_val = num_mater_val + num_matelier_val + num_amringe_val\n",
        "total_test = num_mater_test + num_matelier_test + num_amringe_test"
      ],
      "execution_count": 0,
      "outputs": []
    },
    {
      "metadata": {
        "id": "lxIrRa6G3di-",
        "colab_type": "code",
        "outputId": "b8f7ef5d-9080-407d-9b53-31b9016ed952",
        "colab": {
          "base_uri": "https://localhost:8080/",
          "height": 70
        }
      },
      "cell_type": "code",
      "source": [
        "TARGET_SHAPE = 224\n",
        "BATCH_SIZE = 32\n",
        "\n",
        "image_gen_train = ImageDataGenerator(\n",
        "      rescale=1./255,\n",
        "      rotation_range=40,\n",
        "      width_shift_range=0.2,\n",
        "      height_shift_range=0.2,\n",
        "      shear_range=0.2,\n",
        "      zoom_range=0.2,\n",
        "      horizontal_flip=True,\n",
        "      fill_mode='nearest')\n",
        "\n",
        "train_data_gen = image_gen_train.flow_from_directory(\n",
        "    batch_size=BATCH_SIZE, \n",
        "    directory=train_dir, \n",
        "    shuffle=True, \n",
        "    target_size=(TARGET_SHAPE,TARGET_SHAPE),\n",
        "    class_mode='categorical')\n",
        "\n",
        "# Validation data should not be augmented!\n",
        "image_gen_val = ImageDataGenerator(rescale=1./255)\n",
        "val_data_gen = image_gen_val.flow_from_directory(\n",
        "    batch_size=BATCH_SIZE, \n",
        "    directory=validation_dir, \n",
        "    target_size=(TARGET_SHAPE, TARGET_SHAPE),\n",
        "    class_mode='categorical')\n",
        "\n",
        "# test data should not be augmented!\n",
        "image_gen_test = ImageDataGenerator(rescale=1./255)\n",
        "test_data_gen = image_gen_val.flow_from_directory(\n",
        "    batch_size=BATCH_SIZE, \n",
        "    directory=test_dir, \n",
        "    target_size=(TARGET_SHAPE, TARGET_SHAPE),\n",
        "    class_mode='categorical')"
      ],
      "execution_count": 5,
      "outputs": [
        {
          "output_type": "stream",
          "text": [
            "Found 362 images belonging to 3 classes.\n",
            "Found 155 images belonging to 3 classes.\n",
            "Found 80 images belonging to 3 classes.\n"
          ],
          "name": "stdout"
        }
      ]
    },
    {
      "metadata": {
        "id": "wu2pWRQF2rjz",
        "colab_type": "text"
      },
      "cell_type": "markdown",
      "source": [
        "# Part2 P3\n",
        "I will find a pretrained model with the least number of parameters after adjoining Dense layer (FC). Then choose that model to classify the landmarks. For pre-trained models, I will compare MobileNet Mobile, NASNet, DenseNet121, VGG16, Xception, InceptionV3 and Resnet50."
      ]
    },
    {
      "metadata": {
        "id": "x8vH3sdcBQQi",
        "colab_type": "code",
        "outputId": "b0ab06e7-0f9c-4d6d-e08b-1d499f0cdce6",
        "colab": {
          "base_uri": "https://localhost:8080/",
          "height": 354
        }
      },
      "cell_type": "code",
      "source": [
        "\n",
        "mobilenet_conv_base = MobileNet(weights='imagenet',include_top=False, input_shape=(224, 224, 3))\n",
        "nasnet_conv_base = NASNetMobile(weights='imagenet',include_top=False, input_shape=(224, 224, 3))\n",
        "densenet_conv_base = DenseNet121(weights='imagenet',include_top=False, input_shape=(224, 224, 3))\n",
        "vgg16_conv_base = VGG16(weights='imagenet',include_top=False, input_shape=(224, 224, 3))\n",
        "xception_conv_base = Xception(weights='imagenet',include_top=False, input_shape=(224, 224, 3))\n",
        "inception_conv_base = InceptionV3(weights='imagenet',include_top=False, input_shape=(224, 224, 3))\n",
        "resnet_conv_base = ResNet50(weights='imagenet',include_top=False, input_shape=(224, 224, 3))\n",
        "\n",
        "\n"
      ],
      "execution_count": 6,
      "outputs": [
        {
          "output_type": "stream",
          "text": [
            "WARNING:tensorflow:From /usr/local/lib/python3.6/dist-packages/tensorflow/python/ops/resource_variable_ops.py:435: colocate_with (from tensorflow.python.framework.ops) is deprecated and will be removed in a future version.\n",
            "Instructions for updating:\n",
            "Colocations handled automatically by placer.\n",
            "Downloading data from https://github.com/fchollet/deep-learning-models/releases/download/v0.6/mobilenet_1_0_224_tf_no_top.h5\n",
            "17227776/17225924 [==============================] - 1s 0us/step\n",
            "Downloading data from https://github.com/titu1994/Keras-NASNet/releases/download/v1.2/NASNet-mobile-no-top.h5\n",
            "19996672/19993432 [==============================] - 2s 0us/step\n",
            "Downloading data from https://github.com/keras-team/keras-applications/releases/download/densenet/densenet121_weights_tf_dim_ordering_tf_kernels_notop.h5\n",
            "29089792/29084464 [==============================] - 1s 0us/step\n",
            "Downloading data from https://github.com/fchollet/deep-learning-models/releases/download/v0.1/vgg16_weights_tf_dim_ordering_tf_kernels_notop.h5\n",
            "58892288/58889256 [==============================] - 2s 0us/step\n",
            "Downloading data from https://github.com/fchollet/deep-learning-models/releases/download/v0.4/xception_weights_tf_dim_ordering_tf_kernels_notop.h5\n",
            "83689472/83683744 [==============================] - 3s 0us/step\n",
            "Downloading data from https://github.com/fchollet/deep-learning-models/releases/download/v0.5/inception_v3_weights_tf_dim_ordering_tf_kernels_notop.h5\n",
            "87916544/87910968 [==============================] - 3s 0us/step\n"
          ],
          "name": "stdout"
        },
        {
          "output_type": "stream",
          "text": [
            "/usr/local/lib/python3.6/dist-packages/keras_applications/resnet50.py:265: UserWarning: The output shape of `ResNet50(include_top=False)` has been changed since Keras 2.2.0.\n",
            "  warnings.warn('The output shape of `ResNet50(include_top=False)` '\n"
          ],
          "name": "stderr"
        },
        {
          "output_type": "stream",
          "text": [
            "Downloading data from https://github.com/fchollet/deep-learning-models/releases/download/v0.2/resnet50_weights_tf_dim_ordering_tf_kernels_notop.h5\n",
            "94658560/94653016 [==============================] - 24s 0us/step\n"
          ],
          "name": "stdout"
        }
      ]
    },
    {
      "metadata": {
        "id": "iPU3sY_Oaqnb",
        "colab_type": "code",
        "colab": {}
      },
      "cell_type": "code",
      "source": [
        "mobilenet_model = Sequential()\n",
        "mobilenet_model.add(mobilenet_conv_base)\n",
        "mobilenet_model.add(Flatten())\n",
        "mobilenet_model.add(Dense(512, activation='relu'))\n",
        "mobilenet_model.add(Dense(3, activation='softmax'))\n",
        "\n",
        "nasnet_model = Sequential()\n",
        "nasnet_model.add(nasnet_conv_base)\n",
        "nasnet_model.add(Flatten())\n",
        "nasnet_model.add(Dense(512, activation='relu'))\n",
        "nasnet_model.add(Dense(3, activation='softmax'))\n",
        "\n",
        "\n",
        "densenet_model = Sequential()\n",
        "densenet_model.add(densenet_conv_base)\n",
        "densenet_model.add(Flatten())\n",
        "densenet_model.add(Dense(512, activation='relu'))\n",
        "densenet_model.add(Dense(3, activation='softmax'))\n",
        "\n",
        "\n",
        "vgg16_model = Sequential()\n",
        "vgg16_model.add(vgg16_conv_base)\n",
        "vgg16_model.add(Flatten())\n",
        "vgg16_model.add(Dense(512, activation='relu'))\n",
        "vgg16_model.add(Dense(3, activation='softmax'))\n",
        "\n",
        "xception_model = Sequential()\n",
        "xception_model.add(xception_conv_base)\n",
        "xception_model.add(Flatten())\n",
        "xception_model.add(Dense(512, activation='relu'))\n",
        "xception_model.add(Dense(3, activation='softmax'))\n",
        "\n",
        "inception_model = Sequential()\n",
        "inception_model.add(inception_conv_base)\n",
        "inception_model.add(Flatten())\n",
        "inception_model.add(Dense(512, activation='relu'))\n",
        "inception_model.add(Dense(3, activation='softmax'))\n",
        "\n",
        "resnet_model = Sequential()\n",
        "resnet_model.add(resnet_conv_base)\n",
        "resnet_model.add(Flatten())\n",
        "resnet_model.add(Dense(512, activation='relu'))\n",
        "resnet_model.add(Dense(3, activation='softmax'))\n"
      ],
      "execution_count": 0,
      "outputs": []
    },
    {
      "metadata": {
        "id": "B07nTbg4aqpz",
        "colab_type": "code",
        "colab": {
          "base_uri": "https://localhost:8080/",
          "height": 1883
        },
        "outputId": "ad015440-efd1-48ed-8816-c28c199286b0"
      },
      "cell_type": "code",
      "source": [
        "mobilenet_model.summary()\n",
        "nasnet_model.summary()\n",
        "densenet_model.summary()\n",
        "vgg16_model.summary()\n",
        "xception_model.summary()\n",
        "inception_model.summary()\n",
        "resnet_model.summary()"
      ],
      "execution_count": 9,
      "outputs": [
        {
          "output_type": "stream",
          "text": [
            "_________________________________________________________________\n",
            "Layer (type)                 Output Shape              Param #   \n",
            "=================================================================\n",
            "mobilenet_1.00_224 (Model)   (None, 7, 7, 1024)        3228864   \n",
            "_________________________________________________________________\n",
            "flatten (Flatten)            (None, 50176)             0         \n",
            "_________________________________________________________________\n",
            "dense (Dense)                (None, 512)               25690624  \n",
            "_________________________________________________________________\n",
            "dense_1 (Dense)              (None, 3)                 1539      \n",
            "=================================================================\n",
            "Total params: 28,921,027\n",
            "Trainable params: 28,899,139\n",
            "Non-trainable params: 21,888\n",
            "_________________________________________________________________\n",
            "_________________________________________________________________\n",
            "Layer (type)                 Output Shape              Param #   \n",
            "=================================================================\n",
            "NASNet (Model)               (None, 7, 7, 1056)        4269716   \n",
            "_________________________________________________________________\n",
            "flatten_1 (Flatten)          (None, 51744)             0         \n",
            "_________________________________________________________________\n",
            "dense_2 (Dense)              (None, 512)               26493440  \n",
            "_________________________________________________________________\n",
            "dense_3 (Dense)              (None, 3)                 1539      \n",
            "=================================================================\n",
            "Total params: 30,764,695\n",
            "Trainable params: 30,727,957\n",
            "Non-trainable params: 36,738\n",
            "_________________________________________________________________\n",
            "_________________________________________________________________\n",
            "Layer (type)                 Output Shape              Param #   \n",
            "=================================================================\n",
            "densenet121 (Model)          (None, 7, 7, 1024)        7037504   \n",
            "_________________________________________________________________\n",
            "flatten_2 (Flatten)          (None, 50176)             0         \n",
            "_________________________________________________________________\n",
            "dense_4 (Dense)              (None, 512)               25690624  \n",
            "_________________________________________________________________\n",
            "dense_5 (Dense)              (None, 3)                 1539      \n",
            "=================================================================\n",
            "Total params: 32,729,667\n",
            "Trainable params: 32,646,019\n",
            "Non-trainable params: 83,648\n",
            "_________________________________________________________________\n",
            "_________________________________________________________________\n",
            "Layer (type)                 Output Shape              Param #   \n",
            "=================================================================\n",
            "vgg16 (Model)                (None, 7, 7, 512)         14714688  \n",
            "_________________________________________________________________\n",
            "flatten_3 (Flatten)          (None, 25088)             0         \n",
            "_________________________________________________________________\n",
            "dense_6 (Dense)              (None, 512)               12845568  \n",
            "_________________________________________________________________\n",
            "dense_7 (Dense)              (None, 3)                 1539      \n",
            "=================================================================\n",
            "Total params: 27,561,795\n",
            "Trainable params: 27,561,795\n",
            "Non-trainable params: 0\n",
            "_________________________________________________________________\n",
            "_________________________________________________________________\n",
            "Layer (type)                 Output Shape              Param #   \n",
            "=================================================================\n",
            "xception (Model)             (None, 7, 7, 2048)        20861480  \n",
            "_________________________________________________________________\n",
            "flatten_4 (Flatten)          (None, 100352)            0         \n",
            "_________________________________________________________________\n",
            "dense_8 (Dense)              (None, 512)               51380736  \n",
            "_________________________________________________________________\n",
            "dense_9 (Dense)              (None, 3)                 1539      \n",
            "=================================================================\n",
            "Total params: 72,243,755\n",
            "Trainable params: 72,189,227\n",
            "Non-trainable params: 54,528\n",
            "_________________________________________________________________\n",
            "_________________________________________________________________\n",
            "Layer (type)                 Output Shape              Param #   \n",
            "=================================================================\n",
            "inception_v3 (Model)         (None, 5, 5, 2048)        21802784  \n",
            "_________________________________________________________________\n",
            "flatten_5 (Flatten)          (None, 51200)             0         \n",
            "_________________________________________________________________\n",
            "dense_10 (Dense)             (None, 512)               26214912  \n",
            "_________________________________________________________________\n",
            "dense_11 (Dense)             (None, 3)                 1539      \n",
            "=================================================================\n",
            "Total params: 48,019,235\n",
            "Trainable params: 47,984,803\n",
            "Non-trainable params: 34,432\n",
            "_________________________________________________________________\n",
            "_________________________________________________________________\n",
            "Layer (type)                 Output Shape              Param #   \n",
            "=================================================================\n",
            "resnet50 (Model)             (None, 7, 7, 2048)        23587712  \n",
            "_________________________________________________________________\n",
            "flatten_6 (Flatten)          (None, 100352)            0         \n",
            "_________________________________________________________________\n",
            "dense_12 (Dense)             (None, 512)               51380736  \n",
            "_________________________________________________________________\n",
            "dense_13 (Dense)             (None, 3)                 1539      \n",
            "=================================================================\n",
            "Total params: 74,969,987\n",
            "Trainable params: 74,916,867\n",
            "Non-trainable params: 53,120\n",
            "_________________________________________________________________\n"
          ],
          "name": "stdout"
        }
      ]
    },
    {
      "metadata": {
        "id": "kNKhHWx7IiCQ",
        "colab_type": "text"
      },
      "cell_type": "markdown",
      "source": [
        "## Total Number of Parameters\n",
        "\n",
        "MobileNet: 28,921,027\n",
        "\n",
        "NASNet Mobile: 30,764,695\n",
        "\n",
        "DenseNet121: 32,729,667\n",
        "\n",
        "**VGG16: 27,561,795**\n",
        "\n",
        "Xception: 72,243,755\n",
        "\n",
        "InceptionV3: 48,019,235\n",
        "\n",
        "ResNet50: 74,969,987"
      ]
    },
    {
      "metadata": {
        "id": "GQRIi2h7qLMh",
        "colab_type": "text"
      },
      "cell_type": "markdown",
      "source": [
        "## Result\n",
        "Surprisingly, VGG16 had the least number of parameters. I will try to reduce the number of parameters on VGG16 by decreasing the dimensionality of the Dense Layer (FC layer), and reducing the input image size."
      ]
    },
    {
      "metadata": {
        "id": "PHpjXnfqrBJY",
        "colab_type": "text"
      },
      "cell_type": "markdown",
      "source": [
        "# Transfer Learning on Pre-trained VGG16 to Achieve Least Number of Parameters"
      ]
    },
    {
      "metadata": {
        "id": "FkK9IjKRsSmO",
        "colab_type": "text"
      },
      "cell_type": "markdown",
      "source": [
        "I will reduce the input image size to (50, 50) and decrease the dimensionality of Dense Layer (FC layer) to 64"
      ]
    },
    {
      "metadata": {
        "colab_type": "code",
        "outputId": "5ca9bddd-87fa-4548-ccd5-68c852dcba9b",
        "id": "VdKbfoSFrw-l",
        "colab": {
          "base_uri": "https://localhost:8080/",
          "height": 70
        }
      },
      "cell_type": "code",
      "source": [
        "TARGET_SHAPE = 50\n",
        "BATCH_SIZE = 32\n",
        "\n",
        "image_gen_train = ImageDataGenerator(\n",
        "      rescale=1./255,\n",
        "      rotation_range=40,\n",
        "      width_shift_range=0.2,\n",
        "      height_shift_range=0.2,\n",
        "      shear_range=0.2,\n",
        "      zoom_range=0.2,\n",
        "      horizontal_flip=True,\n",
        "      fill_mode='nearest')\n",
        "\n",
        "train_data_gen = image_gen_train.flow_from_directory(\n",
        "    batch_size=BATCH_SIZE, \n",
        "    directory=train_dir, \n",
        "    shuffle=True, \n",
        "    target_size=(TARGET_SHAPE,TARGET_SHAPE),\n",
        "    class_mode='categorical')\n",
        "\n",
        "# Validation data should not be augmented!\n",
        "image_gen_val = ImageDataGenerator(rescale=1./255)\n",
        "val_data_gen = image_gen_val.flow_from_directory(\n",
        "    batch_size=BATCH_SIZE, \n",
        "    directory=validation_dir, \n",
        "    target_size=(TARGET_SHAPE, TARGET_SHAPE),\n",
        "    class_mode='categorical')\n",
        "\n",
        "# test data should not be augmented!\n",
        "image_gen_test = ImageDataGenerator(rescale=1./255)\n",
        "test_data_gen = image_gen_val.flow_from_directory(\n",
        "    batch_size=BATCH_SIZE, \n",
        "    directory=test_dir, \n",
        "    target_size=(TARGET_SHAPE, TARGET_SHAPE),\n",
        "    class_mode='categorical')"
      ],
      "execution_count": 10,
      "outputs": [
        {
          "output_type": "stream",
          "text": [
            "Found 362 images belonging to 3 classes.\n",
            "Found 155 images belonging to 3 classes.\n",
            "Found 80 images belonging to 3 classes.\n"
          ],
          "name": "stdout"
        }
      ]
    },
    {
      "metadata": {
        "id": "Mtp9BqPZ0BSC",
        "colab_type": "code",
        "colab": {}
      },
      "cell_type": "code",
      "source": [
        "#download pretrained vgg16 model\n",
        "vgg16_conv_base = VGG16(weights='imagenet',include_top=False, input_shape=(50, 50, 3))\n"
      ],
      "execution_count": 0,
      "outputs": []
    },
    {
      "metadata": {
        "id": "DCoyxHb90BsD",
        "colab_type": "code",
        "outputId": "e838d52d-874e-4ae8-b851-8c1cd131bf0e",
        "colab": {
          "base_uri": "https://localhost:8080/",
          "height": 816
        }
      },
      "cell_type": "code",
      "source": [
        "vgg16_conv_base.summary()"
      ],
      "execution_count": 12,
      "outputs": [
        {
          "output_type": "stream",
          "text": [
            "_________________________________________________________________\n",
            "Layer (type)                 Output Shape              Param #   \n",
            "=================================================================\n",
            "input_8 (InputLayer)         (None, 50, 50, 3)         0         \n",
            "_________________________________________________________________\n",
            "block1_conv1 (Conv2D)        (None, 50, 50, 64)        1792      \n",
            "_________________________________________________________________\n",
            "block1_conv2 (Conv2D)        (None, 50, 50, 64)        36928     \n",
            "_________________________________________________________________\n",
            "block1_pool (MaxPooling2D)   (None, 25, 25, 64)        0         \n",
            "_________________________________________________________________\n",
            "block2_conv1 (Conv2D)        (None, 25, 25, 128)       73856     \n",
            "_________________________________________________________________\n",
            "block2_conv2 (Conv2D)        (None, 25, 25, 128)       147584    \n",
            "_________________________________________________________________\n",
            "block2_pool (MaxPooling2D)   (None, 12, 12, 128)       0         \n",
            "_________________________________________________________________\n",
            "block3_conv1 (Conv2D)        (None, 12, 12, 256)       295168    \n",
            "_________________________________________________________________\n",
            "block3_conv2 (Conv2D)        (None, 12, 12, 256)       590080    \n",
            "_________________________________________________________________\n",
            "block3_conv3 (Conv2D)        (None, 12, 12, 256)       590080    \n",
            "_________________________________________________________________\n",
            "block3_pool (MaxPooling2D)   (None, 6, 6, 256)         0         \n",
            "_________________________________________________________________\n",
            "block4_conv1 (Conv2D)        (None, 6, 6, 512)         1180160   \n",
            "_________________________________________________________________\n",
            "block4_conv2 (Conv2D)        (None, 6, 6, 512)         2359808   \n",
            "_________________________________________________________________\n",
            "block4_conv3 (Conv2D)        (None, 6, 6, 512)         2359808   \n",
            "_________________________________________________________________\n",
            "block4_pool (MaxPooling2D)   (None, 3, 3, 512)         0         \n",
            "_________________________________________________________________\n",
            "block5_conv1 (Conv2D)        (None, 3, 3, 512)         2359808   \n",
            "_________________________________________________________________\n",
            "block5_conv2 (Conv2D)        (None, 3, 3, 512)         2359808   \n",
            "_________________________________________________________________\n",
            "block5_conv3 (Conv2D)        (None, 3, 3, 512)         2359808   \n",
            "_________________________________________________________________\n",
            "block5_pool (MaxPooling2D)   (None, 1, 1, 512)         0         \n",
            "=================================================================\n",
            "Total params: 14,714,688\n",
            "Trainable params: 14,714,688\n",
            "Non-trainable params: 0\n",
            "_________________________________________________________________\n"
          ],
          "name": "stdout"
        }
      ]
    },
    {
      "metadata": {
        "id": "E2jde6qb0By4",
        "colab_type": "code",
        "colab": {}
      },
      "cell_type": "code",
      "source": [
        "#build a new model with trained vgg16\n",
        "vgg16_model = Sequential()\n",
        "vgg16_model.add(vgg16_conv_base)\n",
        "vgg16_model.add(Flatten())\n",
        "vgg16_model.add(Dense(64, activation='relu'))\n",
        "vgg16_model.add(Dense(3, activation='softmax'))"
      ],
      "execution_count": 0,
      "outputs": []
    },
    {
      "metadata": {
        "id": "XA6mKtoLz9Bq",
        "colab_type": "code",
        "outputId": "53ecd2a7-d46a-41c4-a2d9-ad356b0924ac",
        "colab": {
          "base_uri": "https://localhost:8080/",
          "height": 283
        }
      },
      "cell_type": "code",
      "source": [
        "vgg16_model.summary()\n",
        "#dont allow weight to be updated in pretrained VGG16 model\n",
        "vgg16_conv_base.trainable = False"
      ],
      "execution_count": 14,
      "outputs": [
        {
          "output_type": "stream",
          "text": [
            "_________________________________________________________________\n",
            "Layer (type)                 Output Shape              Param #   \n",
            "=================================================================\n",
            "vgg16 (Model)                (None, 1, 1, 512)         14714688  \n",
            "_________________________________________________________________\n",
            "flatten_7 (Flatten)          (None, 512)               0         \n",
            "_________________________________________________________________\n",
            "dense_14 (Dense)             (None, 64)                32832     \n",
            "_________________________________________________________________\n",
            "dense_15 (Dense)             (None, 3)                 195       \n",
            "=================================================================\n",
            "Total params: 14,747,715\n",
            "Trainable params: 14,747,715\n",
            "Non-trainable params: 0\n",
            "_________________________________________________________________\n"
          ],
          "name": "stdout"
        }
      ]
    },
    {
      "metadata": {
        "colab_type": "code",
        "id": "BOzKWwc9rBtn",
        "colab": {}
      },
      "cell_type": "code",
      "source": [
        "EPOCHS = 40\n"
      ],
      "execution_count": 0,
      "outputs": []
    },
    {
      "metadata": {
        "colab_type": "code",
        "outputId": "ceb57cea-9b84-42c9-a37f-94e722f49b1e",
        "id": "fIkjYJsKrBtp",
        "colab": {
          "base_uri": "https://localhost:8080/",
          "height": 2203
        }
      },
      "cell_type": "code",
      "source": [
        "#select the loss function and optimizer\n",
        "vgg16_model.compile(loss='categorical_crossentropy',\n",
        "              optimizer='adam',\n",
        "              metrics=['acc'])\n",
        "\n",
        "# Train Transfer Learning\n",
        "vgg16_history = vgg16_model.fit_generator(\n",
        "      train_data_gen,\n",
        "      steps_per_epoch=int(np.ceil(total_train / float(BATCH_SIZE))),\n",
        "      epochs=EPOCHS,\n",
        "      validation_data=val_data_gen,\n",
        "      validation_steps=int(np.ceil(total_val / float(BATCH_SIZE))),\n",
        "      verbose=2)"
      ],
      "execution_count": 16,
      "outputs": [
        {
          "output_type": "stream",
          "text": [
            "WARNING:tensorflow:From /usr/local/lib/python3.6/dist-packages/tensorflow/python/ops/math_ops.py:3066: to_int32 (from tensorflow.python.ops.math_ops) is deprecated and will be removed in a future version.\n",
            "Instructions for updating:\n",
            "Use tf.cast instead.\n",
            "Epoch 1/40\n",
            "5/5 [==============================] - 54s 11s/step - loss: 0.9212 - acc: 0.5355\n",
            " - 158s - loss: 1.0959 - acc: 0.3867 - val_loss: 0.9212 - val_acc: 0.5355\n",
            "Epoch 2/40\n",
            "5/5 [==============================] - 7s 1s/step - loss: 0.7069 - acc: 0.7935\n",
            " - 8s - loss: 0.8330 - acc: 0.7072 - val_loss: 0.7069 - val_acc: 0.7935\n",
            "Epoch 3/40\n",
            "5/5 [==============================] - 7s 1s/step - loss: 0.5446 - acc: 0.8710\n",
            " - 13s - loss: 0.6857 - acc: 0.7818 - val_loss: 0.5446 - val_acc: 0.8710\n",
            "Epoch 4/40\n",
            "5/5 [==============================] - 7s 1s/step - loss: 0.4704 - acc: 0.8581\n",
            " - 14s - loss: 0.5680 - acc: 0.8287 - val_loss: 0.4704 - val_acc: 0.8581\n",
            "Epoch 5/40\n",
            "5/5 [==============================] - 7s 1s/step - loss: 0.3710 - acc: 0.9226\n",
            " - 13s - loss: 0.5026 - acc: 0.8370 - val_loss: 0.3710 - val_acc: 0.9226\n",
            "Epoch 6/40\n",
            "5/5 [==============================] - 7s 1s/step - loss: 0.3413 - acc: 0.8968\n",
            " - 13s - loss: 0.4918 - acc: 0.8177 - val_loss: 0.3413 - val_acc: 0.8968\n",
            "Epoch 7/40\n",
            "5/5 [==============================] - 7s 1s/step - loss: 0.2808 - acc: 0.9484\n",
            " - 13s - loss: 0.3946 - acc: 0.8812 - val_loss: 0.2808 - val_acc: 0.9484\n",
            "Epoch 8/40\n",
            "5/5 [==============================] - 7s 1s/step - loss: 0.2791 - acc: 0.9419\n",
            " - 14s - loss: 0.3649 - acc: 0.8702 - val_loss: 0.2791 - val_acc: 0.9419\n",
            "Epoch 9/40\n",
            "5/5 [==============================] - 7s 1s/step - loss: 0.2536 - acc: 0.9419\n",
            " - 13s - loss: 0.3254 - acc: 0.9033 - val_loss: 0.2536 - val_acc: 0.9419\n",
            "Epoch 10/40\n",
            "5/5 [==============================] - 7s 1s/step - loss: 0.2388 - acc: 0.9548\n",
            " - 13s - loss: 0.3557 - acc: 0.8867 - val_loss: 0.2388 - val_acc: 0.9548\n",
            "Epoch 11/40\n",
            "5/5 [==============================] - 7s 1s/step - loss: 0.2268 - acc: 0.9548\n",
            " - 13s - loss: 0.3622 - acc: 0.8564 - val_loss: 0.2268 - val_acc: 0.9548\n",
            "Epoch 12/40\n",
            "5/5 [==============================] - 7s 1s/step - loss: 0.2058 - acc: 0.9613\n",
            " - 13s - loss: 0.3201 - acc: 0.8978 - val_loss: 0.2058 - val_acc: 0.9613\n",
            "Epoch 13/40\n",
            "5/5 [==============================] - 7s 1s/step - loss: 0.1747 - acc: 0.9613\n",
            " - 13s - loss: 0.2835 - acc: 0.9033 - val_loss: 0.1747 - val_acc: 0.9613\n",
            "Epoch 14/40\n",
            "5/5 [==============================] - 7s 1s/step - loss: 0.1817 - acc: 0.9613\n",
            " - 13s - loss: 0.2528 - acc: 0.9144 - val_loss: 0.1817 - val_acc: 0.9613\n",
            "Epoch 15/40\n",
            "5/5 [==============================] - 7s 1s/step - loss: 0.1739 - acc: 0.9484\n",
            " - 13s - loss: 0.2799 - acc: 0.9254 - val_loss: 0.1739 - val_acc: 0.9484\n",
            "Epoch 16/40\n",
            "5/5 [==============================] - 7s 1s/step - loss: 0.1418 - acc: 0.9742\n",
            " - 13s - loss: 0.2567 - acc: 0.9199 - val_loss: 0.1418 - val_acc: 0.9742\n",
            "Epoch 17/40\n",
            "5/5 [==============================] - 7s 1s/step - loss: 0.1367 - acc: 0.9806\n",
            " - 13s - loss: 0.2160 - acc: 0.9365 - val_loss: 0.1367 - val_acc: 0.9806\n",
            "Epoch 18/40\n",
            "5/5 [==============================] - 7s 1s/step - loss: 0.1438 - acc: 0.9677\n",
            " - 14s - loss: 0.2347 - acc: 0.9282 - val_loss: 0.1438 - val_acc: 0.9677\n",
            "Epoch 19/40\n",
            "5/5 [==============================] - 7s 1s/step - loss: 0.1246 - acc: 0.9677\n",
            " - 13s - loss: 0.2701 - acc: 0.9171 - val_loss: 0.1246 - val_acc: 0.9677\n",
            "Epoch 20/40\n",
            "5/5 [==============================] - 7s 1s/step - loss: 0.1161 - acc: 0.9806\n",
            " - 13s - loss: 0.1987 - acc: 0.9337 - val_loss: 0.1161 - val_acc: 0.9806\n",
            "Epoch 21/40\n",
            "5/5 [==============================] - 7s 1s/step - loss: 0.1228 - acc: 0.9677\n",
            " - 14s - loss: 0.2197 - acc: 0.9144 - val_loss: 0.1228 - val_acc: 0.9677\n",
            "Epoch 22/40\n",
            "5/5 [==============================] - 7s 1s/step - loss: 0.1042 - acc: 0.9806\n",
            " - 14s - loss: 0.2091 - acc: 0.9392 - val_loss: 0.1042 - val_acc: 0.9806\n",
            "Epoch 23/40\n",
            "5/5 [==============================] - 7s 1s/step - loss: 0.1029 - acc: 0.9806\n",
            " - 13s - loss: 0.2025 - acc: 0.9392 - val_loss: 0.1029 - val_acc: 0.9806\n",
            "Epoch 24/40\n",
            "5/5 [==============================] - 7s 1s/step - loss: 0.1033 - acc: 0.9742\n",
            " - 13s - loss: 0.1675 - acc: 0.9392 - val_loss: 0.1033 - val_acc: 0.9742\n",
            "Epoch 25/40\n",
            "5/5 [==============================] - 7s 1s/step - loss: 0.0952 - acc: 0.9742\n",
            " - 13s - loss: 0.2001 - acc: 0.9282 - val_loss: 0.0952 - val_acc: 0.9742\n",
            "Epoch 26/40\n",
            "5/5 [==============================] - 7s 1s/step - loss: 0.0914 - acc: 0.9806\n",
            " - 13s - loss: 0.1917 - acc: 0.9309 - val_loss: 0.0914 - val_acc: 0.9806\n",
            "Epoch 27/40\n",
            "5/5 [==============================] - 7s 1s/step - loss: 0.0944 - acc: 0.9742\n",
            " - 14s - loss: 0.2096 - acc: 0.9309 - val_loss: 0.0944 - val_acc: 0.9742\n",
            "Epoch 28/40\n",
            "5/5 [==============================] - 7s 1s/step - loss: 0.0843 - acc: 0.9871\n",
            " - 13s - loss: 0.1811 - acc: 0.9392 - val_loss: 0.0843 - val_acc: 0.9871\n",
            "Epoch 29/40\n",
            "5/5 [==============================] - 7s 1s/step - loss: 0.0821 - acc: 0.9935\n",
            " - 13s - loss: 0.1523 - acc: 0.9586 - val_loss: 0.0821 - val_acc: 0.9935\n",
            "Epoch 30/40\n",
            "5/5 [==============================] - 7s 1s/step - loss: 0.0787 - acc: 0.9806\n",
            " - 13s - loss: 0.1820 - acc: 0.9448 - val_loss: 0.0787 - val_acc: 0.9806\n",
            "Epoch 31/40\n",
            "5/5 [==============================] - 7s 1s/step - loss: 0.0799 - acc: 0.9871\n",
            " - 13s - loss: 0.1553 - acc: 0.9475 - val_loss: 0.0799 - val_acc: 0.9871\n",
            "Epoch 32/40\n",
            "5/5 [==============================] - 7s 1s/step - loss: 0.0737 - acc: 0.9871\n",
            " - 13s - loss: 0.1624 - acc: 0.9420 - val_loss: 0.0737 - val_acc: 0.9871\n",
            "Epoch 33/40\n",
            "5/5 [==============================] - 7s 1s/step - loss: 0.0740 - acc: 0.9935\n",
            " - 13s - loss: 0.1735 - acc: 0.9558 - val_loss: 0.0740 - val_acc: 0.9935\n",
            "Epoch 34/40\n",
            "5/5 [==============================] - 7s 1s/step - loss: 0.0707 - acc: 0.9871\n",
            " - 14s - loss: 0.1396 - acc: 0.9558 - val_loss: 0.0707 - val_acc: 0.9871\n",
            "Epoch 35/40\n",
            "5/5 [==============================] - 7s 1s/step - loss: 0.0848 - acc: 0.9677\n",
            " - 13s - loss: 0.1566 - acc: 0.9420 - val_loss: 0.0848 - val_acc: 0.9677\n",
            "Epoch 36/40\n",
            "5/5 [==============================] - 7s 1s/step - loss: 0.0677 - acc: 0.9806\n",
            " - 14s - loss: 0.1552 - acc: 0.9530 - val_loss: 0.0677 - val_acc: 0.9806\n",
            "Epoch 37/40\n",
            "5/5 [==============================] - 7s 1s/step - loss: 0.0773 - acc: 0.9806\n",
            " - 14s - loss: 0.1804 - acc: 0.9503 - val_loss: 0.0773 - val_acc: 0.9806\n",
            "Epoch 38/40\n",
            "5/5 [==============================] - 7s 1s/step - loss: 0.0838 - acc: 0.9742\n",
            " - 13s - loss: 0.1434 - acc: 0.9558 - val_loss: 0.0838 - val_acc: 0.9742\n",
            "Epoch 39/40\n",
            "5/5 [==============================] - 7s 1s/step - loss: 0.0929 - acc: 0.9677\n",
            " - 13s - loss: 0.1533 - acc: 0.9530 - val_loss: 0.0929 - val_acc: 0.9677\n",
            "Epoch 40/40\n",
            "5/5 [==============================] - 7s 1s/step - loss: 0.0651 - acc: 0.9871\n",
            " - 13s - loss: 0.1686 - acc: 0.9392 - val_loss: 0.0651 - val_acc: 0.9871\n"
          ],
          "name": "stdout"
        }
      ]
    },
    {
      "metadata": {
        "id": "FIhThbSJ4XH6",
        "colab_type": "text"
      },
      "cell_type": "markdown",
      "source": [
        "## Plot Training and Validation Loss and Accuracy"
      ]
    },
    {
      "metadata": {
        "colab_type": "code",
        "outputId": "626062ef-17c6-4624-9218-f7af3db09770",
        "id": "KgUXcsUbrBts",
        "colab": {
          "base_uri": "https://localhost:8080/",
          "height": 770
        }
      },
      "cell_type": "code",
      "source": [
        "acc = vgg16_history.history['acc']\n",
        "val_acc = vgg16_history.history['val_acc']\n",
        "\n",
        "loss = vgg16_history.history['loss']                                              \n",
        "val_loss = vgg16_history.history['val_loss']\n",
        "\n",
        "epochs_range = range(1, EPOCHS+1)\n",
        "\n",
        "plt.figure(figsize=(13,13))\n",
        "plt.subplot(1, 2, 1)\n",
        "plt.plot(epochs_range, acc, label='Training Accuracy')\n",
        "plt.plot(epochs_range, val_acc, label='Validation Accuracy')\n",
        "plt.legend(loc='lower right')\n",
        "plt.title('Training and Validation Accuracy from Transfer Learning on VGG16')\n",
        "\n",
        "plt.subplot(1, 2, 2)\n",
        "plt.plot(epochs_range, loss, label='Training Loss')\n",
        "plt.plot(epochs_range, val_loss, label='Validation Loss')\n",
        "plt.legend(loc='upper right')\n",
        "plt.title('Training and Validation Loss from Transfer Learning on VGG16')\n",
        "plt.show()"
      ],
      "execution_count": 17,
      "outputs": [
        {
          "output_type": "display_data",
          "data": {
            "image/png": "[encoded data removed]",
            "text/plain": [
              "<Figure size 936x936 with 2 Axes>"
            ]
          },
          "metadata": {
            "tags": []
          }
        }
      ]
    },
    {
      "metadata": {
        "id": "LFZun68z4b2z",
        "colab_type": "text"
      },
      "cell_type": "markdown",
      "source": [
        "## Show Testing Loss and Accuracy"
      ]
    },
    {
      "metadata": {
        "colab_type": "code",
        "outputId": "07b59105-dc79-47e7-cc22-e0fc6cb043c3",
        "id": "QmCUsNBsrBtu",
        "colab": {
          "base_uri": "https://localhost:8080/",
          "height": 34
        }
      },
      "cell_type": "code",
      "source": [
        "vgg16_test_loss, vgg16_test_accuracy = vgg16_model.evaluate(test_data_gen, verbose=1)"
      ],
      "execution_count": 18,
      "outputs": [
        {
          "output_type": "stream",
          "text": [
            "3/3 [==============================] - 27s 9s/step - loss: 0.1058 - acc: 0.9625\n"
          ],
          "name": "stdout"
        }
      ]
    },
    {
      "metadata": {
        "colab_type": "code",
        "outputId": "f441e564-69de-4dd8-f94b-c7bce2d033f9",
        "id": "Zf-w6eqkrBtw",
        "colab": {
          "base_uri": "https://localhost:8080/",
          "height": 34
        }
      },
      "cell_type": "code",
      "source": [
        "print('The test accuracy is', vgg16_test_accuracy, 'and the test loss is', vgg16_test_loss)"
      ],
      "execution_count": 19,
      "outputs": [
        {
          "output_type": "stream",
          "text": [
            "The test accuracy is 0.9625 and the test loss is 0.10581271350383759\n"
          ],
          "name": "stdout"
        }
      ]
    },
    {
      "metadata": {
        "id": "CdWnmzHoD9gr",
        "colab_type": "text"
      },
      "cell_type": "markdown",
      "source": [
        "# Result\n",
        "I got accuracy of 96% with VGG16 model with 14,747,715 parameters."
      ]
    }
  ]
}
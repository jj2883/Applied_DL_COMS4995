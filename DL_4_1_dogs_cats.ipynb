{
  "nbformat": 4,
  "nbformat_minor": 0,
  "metadata": {
    "colab": {
      "name": "DL_4.1_dogs_cats.ipynb",
      "version": "0.3.2",
      "provenance": [],
      "include_colab_link": true
    },
    "kernelspec": {
      "name": "python3",
      "display_name": "Python 3"
    }
  },
  "cells": [
    {
      "cell_type": "markdown",
      "metadata": {
        "id": "view-in-github",
        "colab_type": "text"
      },
      "source": [
        "<a href=\"https://colab.research.google.com/github/jj2883/Applied_DL_COMS4995/blob/master/DL_4_1_dogs_cats.ipynb\" target=\"_parent\"><img src=\"https://colab.research.google.com/assets/colab-badge.svg\" alt=\"Open In Colab\"/></a>"
      ]
    },
    {
      "metadata": {
        "id": "GDzltga5Jysl",
        "colab_type": "code",
        "colab": {}
      },
      "cell_type": "code",
      "source": [
        "import matplotlib.pyplot as plt\n",
        "import numpy as np\n",
        "import os\n",
        "\n",
        "# The code in this notebook should work identically between TF v1 and v2\n",
        "import tensorflow as tf\n",
        "import zipfile\n",
        "\n",
        "from tensorflow.keras.layers import Conv2D, Dense, Flatten, MaxPooling2D\n",
        "from tensorflow.keras.models import Sequential\n",
        "from tensorflow.keras.preprocessing.image import ImageDataGenerator"
      ],
      "execution_count": 0,
      "outputs": []
    },
    {
      "metadata": {
        "id": "jamab7uuJ3zu",
        "colab_type": "code",
        "colab": {
          "base_uri": "https://localhost:8080/",
          "height": 204
        },
        "outputId": "210eddbc-7554-4ab6-8a04-1438d439e8c3"
      },
      "cell_type": "code",
      "source": [
        "!wget https://storage.googleapis.com/mledu-datasets/cats_and_dogs_filtered.zip \\\n",
        "    -O /tmp/cats_and_dogs_filtered.zip"
      ],
      "execution_count": 2,
      "outputs": [
        {
          "output_type": "stream",
          "text": [
            "--2019-02-26 18:53:40--  https://storage.googleapis.com/mledu-datasets/cats_and_dogs_filtered.zip\n",
            "Resolving storage.googleapis.com (storage.googleapis.com)... 74.125.199.128, 2607:f8b0:400e:c07::80\n",
            "Connecting to storage.googleapis.com (storage.googleapis.com)|74.125.199.128|:443... connected.\n",
            "HTTP request sent, awaiting response... 200 OK\n",
            "Length: 68606236 (65M) [application/zip]\n",
            "Saving to: ‘/tmp/cats_and_dogs_filtered.zip’\n",
            "\n",
            "/tmp/cats_and_dogs_ 100%[===================>]  65.43M  86.8MB/s    in 0.8s    \n",
            "\n",
            "2019-02-26 18:53:41 (86.8 MB/s) - ‘/tmp/cats_and_dogs_filtered.zip’ saved [68606236/68606236]\n",
            "\n"
          ],
          "name": "stdout"
        }
      ]
    },
    {
      "metadata": {
        "id": "6kSdUQSmJ32d",
        "colab_type": "code",
        "colab": {}
      },
      "cell_type": "code",
      "source": [
        "local_zip = '/tmp/cats_and_dogs_filtered.zip'\n",
        "zip_ref = zipfile.ZipFile(local_zip, 'r')\n",
        "zip_ref.extractall('/tmp')\n",
        "zip_ref.close()"
      ],
      "execution_count": 0,
      "outputs": []
    },
    {
      "metadata": {
        "id": "tJ7CyXSkJ349",
        "colab_type": "code",
        "colab": {
          "base_uri": "https://localhost:8080/",
          "height": 2873
        },
        "outputId": "57574a5b-4a88-451f-d25b-96af7b8d99d1"
      },
      "cell_type": "code",
      "source": [
        "!ls '/tmp/cats_and_dogs_filtered'\n",
        "!ls '/tmp/cats_and_dogs_filtered/train/dogs'"
      ],
      "execution_count": 4,
      "outputs": [
        {
          "output_type": "stream",
          "text": [
            "train  validation  vectorize.py\n",
            "dog.0.jpg    dog.250.jpg  dog.400.jpg  dog.551.jpg  dog.701.jpg  dog.852.jpg\n",
            "dog.100.jpg  dog.251.jpg  dog.401.jpg  dog.552.jpg  dog.702.jpg  dog.853.jpg\n",
            "dog.101.jpg  dog.252.jpg  dog.402.jpg  dog.553.jpg  dog.703.jpg  dog.854.jpg\n",
            "dog.102.jpg  dog.253.jpg  dog.403.jpg  dog.554.jpg  dog.704.jpg  dog.855.jpg\n",
            "dog.103.jpg  dog.254.jpg  dog.404.jpg  dog.555.jpg  dog.705.jpg  dog.856.jpg\n",
            "dog.104.jpg  dog.255.jpg  dog.405.jpg  dog.556.jpg  dog.706.jpg  dog.857.jpg\n",
            "dog.105.jpg  dog.256.jpg  dog.406.jpg  dog.557.jpg  dog.707.jpg  dog.858.jpg\n",
            "dog.106.jpg  dog.257.jpg  dog.407.jpg  dog.558.jpg  dog.708.jpg  dog.859.jpg\n",
            "dog.107.jpg  dog.258.jpg  dog.408.jpg  dog.559.jpg  dog.709.jpg  dog.85.jpg\n",
            "dog.108.jpg  dog.259.jpg  dog.409.jpg  dog.55.jpg   dog.70.jpg\t dog.860.jpg\n",
            "dog.109.jpg  dog.25.jpg   dog.40.jpg   dog.560.jpg  dog.710.jpg  dog.861.jpg\n",
            "dog.10.jpg   dog.260.jpg  dog.410.jpg  dog.561.jpg  dog.711.jpg  dog.862.jpg\n",
            "dog.110.jpg  dog.261.jpg  dog.411.jpg  dog.562.jpg  dog.712.jpg  dog.863.jpg\n",
            "dog.111.jpg  dog.262.jpg  dog.412.jpg  dog.563.jpg  dog.713.jpg  dog.864.jpg\n",
            "dog.112.jpg  dog.263.jpg  dog.413.jpg  dog.564.jpg  dog.714.jpg  dog.865.jpg\n",
            "dog.113.jpg  dog.264.jpg  dog.414.jpg  dog.565.jpg  dog.715.jpg  dog.866.jpg\n",
            "dog.114.jpg  dog.265.jpg  dog.415.jpg  dog.566.jpg  dog.716.jpg  dog.867.jpg\n",
            "dog.115.jpg  dog.266.jpg  dog.416.jpg  dog.567.jpg  dog.717.jpg  dog.868.jpg\n",
            "dog.116.jpg  dog.267.jpg  dog.417.jpg  dog.568.jpg  dog.718.jpg  dog.869.jpg\n",
            "dog.117.jpg  dog.268.jpg  dog.418.jpg  dog.569.jpg  dog.719.jpg  dog.86.jpg\n",
            "dog.118.jpg  dog.269.jpg  dog.419.jpg  dog.56.jpg   dog.71.jpg\t dog.870.jpg\n",
            "dog.119.jpg  dog.26.jpg   dog.41.jpg   dog.570.jpg  dog.720.jpg  dog.871.jpg\n",
            "dog.11.jpg   dog.270.jpg  dog.420.jpg  dog.571.jpg  dog.721.jpg  dog.872.jpg\n",
            "dog.120.jpg  dog.271.jpg  dog.421.jpg  dog.572.jpg  dog.722.jpg  dog.873.jpg\n",
            "dog.121.jpg  dog.272.jpg  dog.422.jpg  dog.573.jpg  dog.723.jpg  dog.874.jpg\n",
            "dog.122.jpg  dog.273.jpg  dog.423.jpg  dog.574.jpg  dog.724.jpg  dog.875.jpg\n",
            "dog.123.jpg  dog.274.jpg  dog.424.jpg  dog.575.jpg  dog.725.jpg  dog.876.jpg\n",
            "dog.124.jpg  dog.275.jpg  dog.425.jpg  dog.576.jpg  dog.726.jpg  dog.877.jpg\n",
            "dog.125.jpg  dog.276.jpg  dog.426.jpg  dog.577.jpg  dog.727.jpg  dog.878.jpg\n",
            "dog.126.jpg  dog.277.jpg  dog.427.jpg  dog.578.jpg  dog.728.jpg  dog.879.jpg\n",
            "dog.127.jpg  dog.278.jpg  dog.428.jpg  dog.579.jpg  dog.729.jpg  dog.87.jpg\n",
            "dog.128.jpg  dog.279.jpg  dog.429.jpg  dog.57.jpg   dog.72.jpg\t dog.880.jpg\n",
            "dog.129.jpg  dog.27.jpg   dog.42.jpg   dog.580.jpg  dog.730.jpg  dog.881.jpg\n",
            "dog.12.jpg   dog.280.jpg  dog.430.jpg  dog.581.jpg  dog.731.jpg  dog.882.jpg\n",
            "dog.130.jpg  dog.281.jpg  dog.431.jpg  dog.582.jpg  dog.732.jpg  dog.883.jpg\n",
            "dog.131.jpg  dog.282.jpg  dog.432.jpg  dog.583.jpg  dog.733.jpg  dog.884.jpg\n",
            "dog.132.jpg  dog.283.jpg  dog.433.jpg  dog.584.jpg  dog.734.jpg  dog.885.jpg\n",
            "dog.133.jpg  dog.284.jpg  dog.434.jpg  dog.585.jpg  dog.735.jpg  dog.886.jpg\n",
            "dog.134.jpg  dog.285.jpg  dog.435.jpg  dog.586.jpg  dog.736.jpg  dog.887.jpg\n",
            "dog.135.jpg  dog.286.jpg  dog.436.jpg  dog.587.jpg  dog.737.jpg  dog.888.jpg\n",
            "dog.136.jpg  dog.287.jpg  dog.437.jpg  dog.588.jpg  dog.738.jpg  dog.889.jpg\n",
            "dog.137.jpg  dog.288.jpg  dog.438.jpg  dog.589.jpg  dog.739.jpg  dog.88.jpg\n",
            "dog.138.jpg  dog.289.jpg  dog.439.jpg  dog.58.jpg   dog.73.jpg\t dog.890.jpg\n",
            "dog.139.jpg  dog.28.jpg   dog.43.jpg   dog.590.jpg  dog.740.jpg  dog.891.jpg\n",
            "dog.13.jpg   dog.290.jpg  dog.440.jpg  dog.591.jpg  dog.741.jpg  dog.892.jpg\n",
            "dog.140.jpg  dog.291.jpg  dog.441.jpg  dog.592.jpg  dog.742.jpg  dog.893.jpg\n",
            "dog.141.jpg  dog.292.jpg  dog.442.jpg  dog.593.jpg  dog.743.jpg  dog.894.jpg\n",
            "dog.142.jpg  dog.293.jpg  dog.443.jpg  dog.594.jpg  dog.744.jpg  dog.895.jpg\n",
            "dog.143.jpg  dog.294.jpg  dog.444.jpg  dog.595.jpg  dog.745.jpg  dog.896.jpg\n",
            "dog.144.jpg  dog.295.jpg  dog.445.jpg  dog.596.jpg  dog.746.jpg  dog.897.jpg\n",
            "dog.145.jpg  dog.296.jpg  dog.446.jpg  dog.597.jpg  dog.747.jpg  dog.898.jpg\n",
            "dog.146.jpg  dog.297.jpg  dog.447.jpg  dog.598.jpg  dog.748.jpg  dog.899.jpg\n",
            "dog.147.jpg  dog.298.jpg  dog.448.jpg  dog.599.jpg  dog.749.jpg  dog.89.jpg\n",
            "dog.148.jpg  dog.299.jpg  dog.449.jpg  dog.59.jpg   dog.74.jpg\t dog.8.jpg\n",
            "dog.149.jpg  dog.29.jpg   dog.44.jpg   dog.5.jpg    dog.750.jpg  dog.900.jpg\n",
            "dog.14.jpg   dog.2.jpg\t  dog.450.jpg  dog.600.jpg  dog.751.jpg  dog.901.jpg\n",
            "dog.150.jpg  dog.300.jpg  dog.451.jpg  dog.601.jpg  dog.752.jpg  dog.902.jpg\n",
            "dog.151.jpg  dog.301.jpg  dog.452.jpg  dog.602.jpg  dog.753.jpg  dog.903.jpg\n",
            "dog.152.jpg  dog.302.jpg  dog.453.jpg  dog.603.jpg  dog.754.jpg  dog.904.jpg\n",
            "dog.153.jpg  dog.303.jpg  dog.454.jpg  dog.604.jpg  dog.755.jpg  dog.905.jpg\n",
            "dog.154.jpg  dog.304.jpg  dog.455.jpg  dog.605.jpg  dog.756.jpg  dog.906.jpg\n",
            "dog.155.jpg  dog.305.jpg  dog.456.jpg  dog.606.jpg  dog.757.jpg  dog.907.jpg\n",
            "dog.156.jpg  dog.306.jpg  dog.457.jpg  dog.607.jpg  dog.758.jpg  dog.908.jpg\n",
            "dog.157.jpg  dog.307.jpg  dog.458.jpg  dog.608.jpg  dog.759.jpg  dog.909.jpg\n",
            "dog.158.jpg  dog.308.jpg  dog.459.jpg  dog.609.jpg  dog.75.jpg\t dog.90.jpg\n",
            "dog.159.jpg  dog.309.jpg  dog.45.jpg   dog.60.jpg   dog.760.jpg  dog.910.jpg\n",
            "dog.15.jpg   dog.30.jpg   dog.460.jpg  dog.610.jpg  dog.761.jpg  dog.911.jpg\n",
            "dog.160.jpg  dog.310.jpg  dog.461.jpg  dog.611.jpg  dog.762.jpg  dog.912.jpg\n",
            "dog.161.jpg  dog.311.jpg  dog.462.jpg  dog.612.jpg  dog.763.jpg  dog.913.jpg\n",
            "dog.162.jpg  dog.312.jpg  dog.463.jpg  dog.613.jpg  dog.764.jpg  dog.914.jpg\n",
            "dog.163.jpg  dog.313.jpg  dog.464.jpg  dog.614.jpg  dog.765.jpg  dog.915.jpg\n",
            "dog.164.jpg  dog.314.jpg  dog.465.jpg  dog.615.jpg  dog.766.jpg  dog.916.jpg\n",
            "dog.165.jpg  dog.315.jpg  dog.466.jpg  dog.616.jpg  dog.767.jpg  dog.917.jpg\n",
            "dog.166.jpg  dog.316.jpg  dog.467.jpg  dog.617.jpg  dog.768.jpg  dog.918.jpg\n",
            "dog.167.jpg  dog.317.jpg  dog.468.jpg  dog.618.jpg  dog.769.jpg  dog.919.jpg\n",
            "dog.168.jpg  dog.318.jpg  dog.469.jpg  dog.619.jpg  dog.76.jpg\t dog.91.jpg\n",
            "dog.169.jpg  dog.319.jpg  dog.46.jpg   dog.61.jpg   dog.770.jpg  dog.920.jpg\n",
            "dog.16.jpg   dog.31.jpg   dog.470.jpg  dog.620.jpg  dog.771.jpg  dog.921.jpg\n",
            "dog.170.jpg  dog.320.jpg  dog.471.jpg  dog.621.jpg  dog.772.jpg  dog.922.jpg\n",
            "dog.171.jpg  dog.321.jpg  dog.472.jpg  dog.622.jpg  dog.773.jpg  dog.923.jpg\n",
            "dog.172.jpg  dog.322.jpg  dog.473.jpg  dog.623.jpg  dog.774.jpg  dog.924.jpg\n",
            "dog.173.jpg  dog.323.jpg  dog.474.jpg  dog.624.jpg  dog.775.jpg  dog.925.jpg\n",
            "dog.174.jpg  dog.324.jpg  dog.475.jpg  dog.625.jpg  dog.776.jpg  dog.926.jpg\n",
            "dog.175.jpg  dog.325.jpg  dog.476.jpg  dog.626.jpg  dog.777.jpg  dog.927.jpg\n",
            "dog.176.jpg  dog.326.jpg  dog.477.jpg  dog.627.jpg  dog.778.jpg  dog.928.jpg\n",
            "dog.177.jpg  dog.327.jpg  dog.478.jpg  dog.628.jpg  dog.779.jpg  dog.929.jpg\n",
            "dog.178.jpg  dog.328.jpg  dog.479.jpg  dog.629.jpg  dog.77.jpg\t dog.92.jpg\n",
            "dog.179.jpg  dog.329.jpg  dog.47.jpg   dog.62.jpg   dog.780.jpg  dog.930.jpg\n",
            "dog.17.jpg   dog.32.jpg   dog.480.jpg  dog.630.jpg  dog.781.jpg  dog.931.jpg\n",
            "dog.180.jpg  dog.330.jpg  dog.481.jpg  dog.631.jpg  dog.782.jpg  dog.932.jpg\n",
            "dog.181.jpg  dog.331.jpg  dog.482.jpg  dog.632.jpg  dog.783.jpg  dog.933.jpg\n",
            "dog.182.jpg  dog.332.jpg  dog.483.jpg  dog.633.jpg  dog.784.jpg  dog.934.jpg\n",
            "dog.183.jpg  dog.333.jpg  dog.484.jpg  dog.634.jpg  dog.785.jpg  dog.935.jpg\n",
            "dog.184.jpg  dog.334.jpg  dog.485.jpg  dog.635.jpg  dog.786.jpg  dog.936.jpg\n",
            "dog.185.jpg  dog.335.jpg  dog.486.jpg  dog.636.jpg  dog.787.jpg  dog.937.jpg\n",
            "dog.186.jpg  dog.336.jpg  dog.487.jpg  dog.637.jpg  dog.788.jpg  dog.938.jpg\n",
            "dog.187.jpg  dog.337.jpg  dog.488.jpg  dog.638.jpg  dog.789.jpg  dog.939.jpg\n",
            "dog.188.jpg  dog.338.jpg  dog.489.jpg  dog.639.jpg  dog.78.jpg\t dog.93.jpg\n",
            "dog.189.jpg  dog.339.jpg  dog.48.jpg   dog.63.jpg   dog.790.jpg  dog.940.jpg\n",
            "dog.18.jpg   dog.33.jpg   dog.490.jpg  dog.640.jpg  dog.791.jpg  dog.941.jpg\n",
            "dog.190.jpg  dog.340.jpg  dog.491.jpg  dog.641.jpg  dog.792.jpg  dog.942.jpg\n",
            "dog.191.jpg  dog.341.jpg  dog.492.jpg  dog.642.jpg  dog.793.jpg  dog.943.jpg\n",
            "dog.192.jpg  dog.342.jpg  dog.493.jpg  dog.643.jpg  dog.794.jpg  dog.944.jpg\n",
            "dog.193.jpg  dog.343.jpg  dog.494.jpg  dog.644.jpg  dog.795.jpg  dog.945.jpg\n",
            "dog.194.jpg  dog.344.jpg  dog.495.jpg  dog.645.jpg  dog.796.jpg  dog.946.jpg\n",
            "dog.195.jpg  dog.345.jpg  dog.496.jpg  dog.646.jpg  dog.797.jpg  dog.947.jpg\n",
            "dog.196.jpg  dog.346.jpg  dog.497.jpg  dog.647.jpg  dog.798.jpg  dog.948.jpg\n",
            "dog.197.jpg  dog.347.jpg  dog.498.jpg  dog.648.jpg  dog.799.jpg  dog.949.jpg\n",
            "dog.198.jpg  dog.348.jpg  dog.499.jpg  dog.649.jpg  dog.79.jpg\t dog.94.jpg\n",
            "dog.199.jpg  dog.349.jpg  dog.49.jpg   dog.64.jpg   dog.7.jpg\t dog.950.jpg\n",
            "dog.19.jpg   dog.34.jpg   dog.4.jpg    dog.650.jpg  dog.800.jpg  dog.951.jpg\n",
            "dog.1.jpg    dog.350.jpg  dog.500.jpg  dog.651.jpg  dog.801.jpg  dog.952.jpg\n",
            "dog.200.jpg  dog.351.jpg  dog.501.jpg  dog.652.jpg  dog.802.jpg  dog.953.jpg\n",
            "dog.201.jpg  dog.352.jpg  dog.502.jpg  dog.653.jpg  dog.803.jpg  dog.954.jpg\n",
            "dog.202.jpg  dog.353.jpg  dog.503.jpg  dog.654.jpg  dog.804.jpg  dog.955.jpg\n",
            "dog.203.jpg  dog.354.jpg  dog.504.jpg  dog.655.jpg  dog.805.jpg  dog.956.jpg\n",
            "dog.204.jpg  dog.355.jpg  dog.505.jpg  dog.656.jpg  dog.806.jpg  dog.957.jpg\n",
            "dog.205.jpg  dog.356.jpg  dog.506.jpg  dog.657.jpg  dog.807.jpg  dog.958.jpg\n",
            "dog.206.jpg  dog.357.jpg  dog.507.jpg  dog.658.jpg  dog.808.jpg  dog.959.jpg\n",
            "dog.207.jpg  dog.358.jpg  dog.508.jpg  dog.659.jpg  dog.809.jpg  dog.95.jpg\n",
            "dog.208.jpg  dog.359.jpg  dog.509.jpg  dog.65.jpg   dog.80.jpg\t dog.960.jpg\n",
            "dog.209.jpg  dog.35.jpg   dog.50.jpg   dog.660.jpg  dog.810.jpg  dog.961.jpg\n",
            "dog.20.jpg   dog.360.jpg  dog.510.jpg  dog.661.jpg  dog.811.jpg  dog.962.jpg\n",
            "dog.210.jpg  dog.361.jpg  dog.511.jpg  dog.662.jpg  dog.812.jpg  dog.963.jpg\n",
            "dog.211.jpg  dog.362.jpg  dog.512.jpg  dog.663.jpg  dog.813.jpg  dog.964.jpg\n",
            "dog.212.jpg  dog.363.jpg  dog.513.jpg  dog.664.jpg  dog.814.jpg  dog.965.jpg\n",
            "dog.213.jpg  dog.364.jpg  dog.514.jpg  dog.665.jpg  dog.815.jpg  dog.966.jpg\n",
            "dog.214.jpg  dog.365.jpg  dog.515.jpg  dog.666.jpg  dog.816.jpg  dog.967.jpg\n",
            "dog.215.jpg  dog.366.jpg  dog.516.jpg  dog.667.jpg  dog.817.jpg  dog.968.jpg\n",
            "dog.216.jpg  dog.367.jpg  dog.517.jpg  dog.668.jpg  dog.818.jpg  dog.969.jpg\n",
            "dog.217.jpg  dog.368.jpg  dog.518.jpg  dog.669.jpg  dog.819.jpg  dog.96.jpg\n",
            "dog.218.jpg  dog.369.jpg  dog.519.jpg  dog.66.jpg   dog.81.jpg\t dog.970.jpg\n",
            "dog.219.jpg  dog.36.jpg   dog.51.jpg   dog.670.jpg  dog.820.jpg  dog.971.jpg\n",
            "dog.21.jpg   dog.370.jpg  dog.520.jpg  dog.671.jpg  dog.821.jpg  dog.972.jpg\n",
            "dog.220.jpg  dog.371.jpg  dog.521.jpg  dog.672.jpg  dog.822.jpg  dog.973.jpg\n",
            "dog.221.jpg  dog.372.jpg  dog.522.jpg  dog.673.jpg  dog.823.jpg  dog.974.jpg\n",
            "dog.222.jpg  dog.373.jpg  dog.523.jpg  dog.674.jpg  dog.824.jpg  dog.975.jpg\n",
            "dog.223.jpg  dog.374.jpg  dog.524.jpg  dog.675.jpg  dog.825.jpg  dog.976.jpg\n",
            "dog.224.jpg  dog.375.jpg  dog.525.jpg  dog.676.jpg  dog.826.jpg  dog.977.jpg\n",
            "dog.225.jpg  dog.376.jpg  dog.526.jpg  dog.677.jpg  dog.827.jpg  dog.978.jpg\n",
            "dog.226.jpg  dog.377.jpg  dog.527.jpg  dog.678.jpg  dog.828.jpg  dog.979.jpg\n",
            "dog.227.jpg  dog.378.jpg  dog.528.jpg  dog.679.jpg  dog.829.jpg  dog.97.jpg\n",
            "dog.228.jpg  dog.379.jpg  dog.529.jpg  dog.67.jpg   dog.82.jpg\t dog.980.jpg\n",
            "dog.229.jpg  dog.37.jpg   dog.52.jpg   dog.680.jpg  dog.830.jpg  dog.981.jpg\n",
            "dog.22.jpg   dog.380.jpg  dog.530.jpg  dog.681.jpg  dog.831.jpg  dog.982.jpg\n",
            "dog.230.jpg  dog.381.jpg  dog.531.jpg  dog.682.jpg  dog.832.jpg  dog.983.jpg\n",
            "dog.231.jpg  dog.382.jpg  dog.532.jpg  dog.683.jpg  dog.833.jpg  dog.984.jpg\n",
            "dog.232.jpg  dog.383.jpg  dog.533.jpg  dog.684.jpg  dog.834.jpg  dog.985.jpg\n",
            "dog.233.jpg  dog.384.jpg  dog.534.jpg  dog.685.jpg  dog.835.jpg  dog.986.jpg\n",
            "dog.234.jpg  dog.385.jpg  dog.535.jpg  dog.686.jpg  dog.836.jpg  dog.987.jpg\n",
            "dog.235.jpg  dog.386.jpg  dog.536.jpg  dog.687.jpg  dog.837.jpg  dog.988.jpg\n",
            "dog.236.jpg  dog.387.jpg  dog.537.jpg  dog.688.jpg  dog.838.jpg  dog.989.jpg\n",
            "dog.237.jpg  dog.388.jpg  dog.538.jpg  dog.689.jpg  dog.839.jpg  dog.98.jpg\n",
            "dog.238.jpg  dog.389.jpg  dog.539.jpg  dog.68.jpg   dog.83.jpg\t dog.990.jpg\n",
            "dog.239.jpg  dog.38.jpg   dog.53.jpg   dog.690.jpg  dog.840.jpg  dog.991.jpg\n",
            "dog.23.jpg   dog.390.jpg  dog.540.jpg  dog.691.jpg  dog.841.jpg  dog.992.jpg\n",
            "dog.240.jpg  dog.391.jpg  dog.541.jpg  dog.692.jpg  dog.842.jpg  dog.993.jpg\n",
            "dog.241.jpg  dog.392.jpg  dog.542.jpg  dog.693.jpg  dog.843.jpg  dog.994.jpg\n",
            "dog.242.jpg  dog.393.jpg  dog.543.jpg  dog.694.jpg  dog.844.jpg  dog.995.jpg\n",
            "dog.243.jpg  dog.394.jpg  dog.544.jpg  dog.695.jpg  dog.845.jpg  dog.996.jpg\n",
            "dog.244.jpg  dog.395.jpg  dog.545.jpg  dog.696.jpg  dog.846.jpg  dog.997.jpg\n",
            "dog.245.jpg  dog.396.jpg  dog.546.jpg  dog.697.jpg  dog.847.jpg  dog.998.jpg\n",
            "dog.246.jpg  dog.397.jpg  dog.547.jpg  dog.698.jpg  dog.848.jpg  dog.999.jpg\n",
            "dog.247.jpg  dog.398.jpg  dog.548.jpg  dog.699.jpg  dog.849.jpg  dog.99.jpg\n",
            "dog.248.jpg  dog.399.jpg  dog.549.jpg  dog.69.jpg   dog.84.jpg\t dog.9.jpg\n",
            "dog.249.jpg  dog.39.jpg   dog.54.jpg   dog.6.jpg    dog.850.jpg\n",
            "dog.24.jpg   dog.3.jpg\t  dog.550.jpg  dog.700.jpg  dog.851.jpg\n"
          ],
          "name": "stdout"
        }
      ]
    },
    {
      "metadata": {
        "id": "uCTPbTk0J37t",
        "colab_type": "code",
        "colab": {}
      },
      "cell_type": "code",
      "source": [
        "\n",
        "base_dir = '/tmp/cats_and_dogs_filtered'\n",
        "train_dir = os.path.join(base_dir, 'train')\n",
        "validation_dir = os.path.join(base_dir, 'validation')\n",
        "\n",
        "train_cats_dir = os.path.join(train_dir, 'cats')\n",
        "train_dogs_dir = os.path.join(train_dir, 'dogs')\n",
        "validation_cats_dir = os.path.join(validation_dir, 'cats')\n",
        "validation_dogs_dir = os.path.join(validation_dir, 'dogs')"
      ],
      "execution_count": 0,
      "outputs": []
    },
    {
      "metadata": {
        "id": "4eWX1Rh5J3-V",
        "colab_type": "code",
        "colab": {}
      },
      "cell_type": "code",
      "source": [
        "num_cats_tr = len(os.listdir(train_cats_dir))\n",
        "num_dogs_tr = len(os.listdir(train_dogs_dir))\n",
        "\n",
        "num_cats_val = len(os.listdir(validation_cats_dir))\n",
        "num_dogs_val = len(os.listdir(validation_dogs_dir))\n",
        "\n",
        "total_train = num_cats_tr + num_dogs_tr\n",
        "total_val = num_cats_val + num_dogs_val"
      ],
      "execution_count": 0,
      "outputs": []
    },
    {
      "metadata": {
        "id": "a1OC_YCdJ4A0",
        "colab_type": "code",
        "colab": {
          "base_uri": "https://localhost:8080/",
          "height": 136
        },
        "outputId": "c8b3c75f-5011-47ec-c2ae-826811360597"
      },
      "cell_type": "code",
      "source": [
        "print('Training cat images:', num_cats_tr)\n",
        "print('Training dog images:', num_dogs_tr)\n",
        "\n",
        "print('Validation cat images:', num_cats_val)\n",
        "print('Validation dog images:', num_dogs_val)\n",
        "\n",
        "print(\"--\")\n",
        "\n",
        "print(\"Total training images:\", total_train)\n",
        "print(\"Total validation images:\", total_val)"
      ],
      "execution_count": 7,
      "outputs": [
        {
          "output_type": "stream",
          "text": [
            "Training cat images: 1000\n",
            "Training dog images: 1000\n",
            "Validation cat images: 500\n",
            "Validation dog images: 500\n",
            "--\n",
            "Total training images: 2000\n",
            "Total validation images: 1000\n"
          ],
          "name": "stdout"
        }
      ]
    },
    {
      "metadata": {
        "id": "KodtxzcBJ4DV",
        "colab_type": "code",
        "colab": {}
      },
      "cell_type": "code",
      "source": [
        "# Images will be resized to(TARGET_SHAPE, TARGET_SHAPE) as they're read off disk.\n",
        "TARGET_SHAPE = 150 \n",
        "BATCH_SIZE = 32"
      ],
      "execution_count": 0,
      "outputs": []
    },
    {
      "metadata": {
        "id": "lXCn7FpeJ4Ft",
        "colab_type": "code",
        "colab": {}
      },
      "cell_type": "code",
      "source": [
        "train_image_generator = ImageDataGenerator(rescale=1./255)\n",
        "validation_image_generator = ImageDataGenerator(rescale=1./255)"
      ],
      "execution_count": 0,
      "outputs": []
    },
    {
      "metadata": {
        "id": "13t2G1AHJ4It",
        "colab_type": "code",
        "colab": {
          "base_uri": "https://localhost:8080/",
          "height": 34
        },
        "outputId": "1f668811-a677-4e2c-fcfa-b92ce0367983"
      },
      "cell_type": "code",
      "source": [
        "\n",
        "train_data_gen = train_image_generator.flow_from_directory(batch_size=BATCH_SIZE, \n",
        "                                                     directory=train_dir, \n",
        "                                                     shuffle=True, # Best practice: shuffle the training data\n",
        "                                                     target_size=(TARGET_SHAPE, TARGET_SHAPE),\n",
        "                                                     class_mode='binary')"
      ],
      "execution_count": 10,
      "outputs": [
        {
          "output_type": "stream",
          "text": [
            "Found 2000 images belonging to 2 classes.\n"
          ],
          "name": "stdout"
        }
      ]
    },
    {
      "metadata": {
        "id": "ycSAqI-5J4Ld",
        "colab_type": "code",
        "colab": {
          "base_uri": "https://localhost:8080/",
          "height": 34
        },
        "outputId": "d27ad3c4-38e0-47a6-d36d-1233900c3b92"
      },
      "cell_type": "code",
      "source": [
        "val_data_gen = validation_image_generator.flow_from_directory(batch_size=BATCH_SIZE, \n",
        "                                                              directory=validation_dir, \n",
        "                                                              target_size=(TARGET_SHAPE, TARGET_SHAPE),\n",
        "                                                              class_mode='binary')"
      ],
      "execution_count": 11,
      "outputs": [
        {
          "output_type": "stream",
          "text": [
            "Found 1000 images belonging to 2 classes.\n"
          ],
          "name": "stdout"
        }
      ]
    },
    {
      "metadata": {
        "id": "bEW70yUAJ4Od",
        "colab_type": "code",
        "colab": {}
      },
      "cell_type": "code",
      "source": [
        "sample_training_images, sample_training_labels = next(train_data_gen)\n"
      ],
      "execution_count": 0,
      "outputs": []
    },
    {
      "metadata": {
        "id": "ei1EgW2wJ4RN",
        "colab_type": "code",
        "colab": {}
      },
      "cell_type": "code",
      "source": [
        "# This function will plot images in a grid with 1 row and 5 columns\n",
        "def plotImages(images_arr):\n",
        "    fig, axes = plt.subplots(1, 5, figsize=(20,20))\n",
        "    axes = axes.flatten()\n",
        "    for img, ax in zip( images_arr, axes):\n",
        "        ax.grid(False)\n",
        "        ax.imshow(img)\n",
        "    plt.tight_layout()\n",
        "    plt.show()"
      ],
      "execution_count": 0,
      "outputs": []
    },
    {
      "metadata": {
        "id": "iIPQKGLOJ4UN",
        "colab_type": "code",
        "colab": {
          "base_uri": "https://localhost:8080/",
          "height": 581
        },
        "outputId": "0e81ff81-958a-475d-b728-edda195e3b3b"
      },
      "cell_type": "code",
      "source": [
        "model = Sequential()\n",
        "model.add(Conv2D(32, (3, 3), activation='relu',\n",
        "                        input_shape=(150, 150, 3)))\n",
        "model.add(MaxPooling2D((2, 2)))\n",
        "model.add(Conv2D(64, (3, 3), activation='relu'))\n",
        "model.add(MaxPooling2D((2, 2)))\n",
        "model.add(Conv2D(128, (3, 3), activation='relu'))\n",
        "model.add(MaxPooling2D((2, 2)))\n",
        "model.add(Conv2D(128, (3, 3), activation='relu'))\n",
        "model.add(MaxPooling2D((2, 2)))\n",
        "model.add(Flatten())\n",
        "model.add(Dense(512, activation='relu'))\n",
        "model.add(Dense(1, activation='sigmoid'))\n",
        "\n",
        "model.summary()\n",
        "model.compile(optimizer='adam', \n",
        "              loss='binary_crossentropy', \n",
        "              metrics=['accuracy'])"
      ],
      "execution_count": 14,
      "outputs": [
        {
          "output_type": "stream",
          "text": [
            "WARNING:tensorflow:From /usr/local/lib/python3.6/dist-packages/tensorflow/python/ops/resource_variable_ops.py:435: colocate_with (from tensorflow.python.framework.ops) is deprecated and will be removed in a future version.\n",
            "Instructions for updating:\n",
            "Colocations handled automatically by placer.\n",
            "_________________________________________________________________\n",
            "Layer (type)                 Output Shape              Param #   \n",
            "=================================================================\n",
            "conv2d (Conv2D)              (None, 148, 148, 32)      896       \n",
            "_________________________________________________________________\n",
            "max_pooling2d (MaxPooling2D) (None, 74, 74, 32)        0         \n",
            "_________________________________________________________________\n",
            "conv2d_1 (Conv2D)            (None, 72, 72, 64)        18496     \n",
            "_________________________________________________________________\n",
            "max_pooling2d_1 (MaxPooling2 (None, 36, 36, 64)        0         \n",
            "_________________________________________________________________\n",
            "conv2d_2 (Conv2D)            (None, 34, 34, 128)       73856     \n",
            "_________________________________________________________________\n",
            "max_pooling2d_2 (MaxPooling2 (None, 17, 17, 128)       0         \n",
            "_________________________________________________________________\n",
            "conv2d_3 (Conv2D)            (None, 15, 15, 128)       147584    \n",
            "_________________________________________________________________\n",
            "max_pooling2d_3 (MaxPooling2 (None, 7, 7, 128)         0         \n",
            "_________________________________________________________________\n",
            "flatten (Flatten)            (None, 6272)              0         \n",
            "_________________________________________________________________\n",
            "dense (Dense)                (None, 512)               3211776   \n",
            "_________________________________________________________________\n",
            "dense_1 (Dense)              (None, 1)                 513       \n",
            "=================================================================\n",
            "Total params: 3,453,121\n",
            "Trainable params: 3,453,121\n",
            "Non-trainable params: 0\n",
            "_________________________________________________________________\n"
          ],
          "name": "stdout"
        }
      ]
    },
    {
      "metadata": {
        "id": "mVPdZPwwJ4XF",
        "colab_type": "code",
        "colab": {
          "base_uri": "https://localhost:8080/",
          "height": 510
        },
        "outputId": "f6158617-e5c0-49e8-ee6b-63efb07b3d68"
      },
      "cell_type": "code",
      "source": [
        "model.summary()"
      ],
      "execution_count": 15,
      "outputs": [
        {
          "output_type": "stream",
          "text": [
            "_________________________________________________________________\n",
            "Layer (type)                 Output Shape              Param #   \n",
            "=================================================================\n",
            "conv2d (Conv2D)              (None, 148, 148, 32)      896       \n",
            "_________________________________________________________________\n",
            "max_pooling2d (MaxPooling2D) (None, 74, 74, 32)        0         \n",
            "_________________________________________________________________\n",
            "conv2d_1 (Conv2D)            (None, 72, 72, 64)        18496     \n",
            "_________________________________________________________________\n",
            "max_pooling2d_1 (MaxPooling2 (None, 36, 36, 64)        0         \n",
            "_________________________________________________________________\n",
            "conv2d_2 (Conv2D)            (None, 34, 34, 128)       73856     \n",
            "_________________________________________________________________\n",
            "max_pooling2d_2 (MaxPooling2 (None, 17, 17, 128)       0         \n",
            "_________________________________________________________________\n",
            "conv2d_3 (Conv2D)            (None, 15, 15, 128)       147584    \n",
            "_________________________________________________________________\n",
            "max_pooling2d_3 (MaxPooling2 (None, 7, 7, 128)         0         \n",
            "_________________________________________________________________\n",
            "flatten (Flatten)            (None, 6272)              0         \n",
            "_________________________________________________________________\n",
            "dense (Dense)                (None, 512)               3211776   \n",
            "_________________________________________________________________\n",
            "dense_1 (Dense)              (None, 1)                 513       \n",
            "=================================================================\n",
            "Total params: 3,453,121\n",
            "Trainable params: 3,453,121\n",
            "Non-trainable params: 0\n",
            "_________________________________________________________________\n"
          ],
          "name": "stdout"
        }
      ]
    },
    {
      "metadata": {
        "id": "oWodGqQcJ4Z9",
        "colab_type": "code",
        "colab": {}
      },
      "cell_type": "code",
      "source": [
        "EPOCHS = 20"
      ],
      "execution_count": 0,
      "outputs": []
    },
    {
      "metadata": {
        "id": "6l3lTX5fJ4cm",
        "colab_type": "code",
        "colab": {
          "base_uri": "https://localhost:8080/",
          "height": 204
        },
        "outputId": "1b75a805-1504-4039-f86e-edf0085b9b48"
      },
      "cell_type": "code",
      "source": [
        "\n",
        "history = model.fit_generator(\n",
        "    train_data_gen,\n",
        "    steps_per_epoch=int(np.ceil(total_train / float(BATCH_SIZE))),\n",
        "    epochs=EPOCHS,\n",
        "    validation_data=val_data_gen,\n",
        "    validation_steps=int(np.ceil(total_val / float(BATCH_SIZE)))\n",
        ")"
      ],
      "execution_count": 0,
      "outputs": [
        {
          "output_type": "stream",
          "text": [
            "WARNING:tensorflow:From /usr/local/lib/python3.6/dist-packages/tensorflow/python/ops/math_ops.py:3066: to_int32 (from tensorflow.python.ops.math_ops) is deprecated and will be removed in a future version.\n",
            "Instructions for updating:\n",
            "Use tf.cast instead.\n",
            "Epoch 1/20\n",
            "32/32 [==============================] - 37s 1s/step - loss: 0.6921 - acc: 0.6060\n",
            "63/63 [==============================] - 266s 4s/step - loss: 0.7023 - acc: 0.5010 - val_loss: 0.6921 - val_acc: 0.6060\n",
            "Epoch 2/20\n",
            "32/32 [==============================] - 37s 1s/step - loss: 0.6918 - acc: 0.5360\n",
            "63/63 [==============================] - 264s 4s/step - loss: 0.6898 - acc: 0.5275 - val_loss: 0.6918 - val_acc: 0.5360\n",
            "Epoch 3/20\n",
            "34/63 [===============>..............] - ETA: 1:43 - loss: 0.6865 - acc: 0.5737"
          ],
          "name": "stdout"
        }
      ]
    },
    {
      "metadata": {
        "id": "NmocivURJ4fl",
        "colab_type": "code",
        "colab": {}
      },
      "cell_type": "code",
      "source": [
        "acc = history.history['acc']\n",
        "val_acc = history.history['val_acc']\n",
        "\n",
        "loss = history.history['loss']\n",
        "val_loss = history.history['val_loss']\n",
        "\n",
        "epochs_range = range(1, EPOCHS + 1)\n",
        "\n",
        "plt.figure(figsize=(8, 8))\n",
        "plt.subplot(1, 2, 1)\n",
        "plt.plot(epochs_range, acc, label='Training Accuracy')\n",
        "plt.plot(epochs_range, val_acc, label='Validation Accuracy')\n",
        "plt.legend(loc='lower right')\n",
        "plt.title('Training and Validation Accuracy')\n",
        "\n",
        "plt.subplot(1, 2, 2)\n",
        "plt.plot(epochs_range, loss, label='Training Loss')\n",
        "plt.plot(epochs_range, val_loss, label='Validation Loss')\n",
        "plt.legend(loc='upper right')\n",
        "plt.title('Training and Validation Loss')\n",
        "plt.show()"
      ],
      "execution_count": 0,
      "outputs": []
    },
    {
      "metadata": {
        "id": "KUEL_vwNJ4iV",
        "colab_type": "code",
        "colab": {}
      },
      "cell_type": "code",
      "source": [
        ""
      ],
      "execution_count": 0,
      "outputs": []
    },
    {
      "metadata": {
        "id": "386faBZgJ4ld",
        "colab_type": "code",
        "colab": {}
      },
      "cell_type": "code",
      "source": [
        ""
      ],
      "execution_count": 0,
      "outputs": []
    },
    {
      "metadata": {
        "id": "CR1myqiGJ4oV",
        "colab_type": "code",
        "colab": {}
      },
      "cell_type": "code",
      "source": [
        ""
      ],
      "execution_count": 0,
      "outputs": []
    },
    {
      "metadata": {
        "id": "yNr8cdqiJ4rN",
        "colab_type": "code",
        "colab": {}
      },
      "cell_type": "code",
      "source": [
        ""
      ],
      "execution_count": 0,
      "outputs": []
    },
    {
      "metadata": {
        "id": "0rM4kctRJ4uN",
        "colab_type": "code",
        "colab": {}
      },
      "cell_type": "code",
      "source": [
        ""
      ],
      "execution_count": 0,
      "outputs": []
    },
    {
      "metadata": {
        "id": "u6EHYzTHJ4xF",
        "colab_type": "code",
        "colab": {}
      },
      "cell_type": "code",
      "source": [
        ""
      ],
      "execution_count": 0,
      "outputs": []
    },
    {
      "metadata": {
        "id": "-0I0cflgJ4z9",
        "colab_type": "code",
        "colab": {}
      },
      "cell_type": "code",
      "source": [
        ""
      ],
      "execution_count": 0,
      "outputs": []
    },
    {
      "metadata": {
        "id": "zPGUU_kFJ421",
        "colab_type": "code",
        "colab": {}
      },
      "cell_type": "code",
      "source": [
        ""
      ],
      "execution_count": 0,
      "outputs": []
    },
    {
      "metadata": {
        "id": "5xnRfi8NJ46G",
        "colab_type": "code",
        "colab": {}
      },
      "cell_type": "code",
      "source": [
        ""
      ],
      "execution_count": 0,
      "outputs": []
    },
    {
      "metadata": {
        "id": "7sNNP_i4J48-",
        "colab_type": "code",
        "colab": {}
      },
      "cell_type": "code",
      "source": [
        ""
      ],
      "execution_count": 0,
      "outputs": []
    },
    {
      "metadata": {
        "id": "135SIi1TJ4_1",
        "colab_type": "code",
        "colab": {}
      },
      "cell_type": "code",
      "source": [
        ""
      ],
      "execution_count": 0,
      "outputs": []
    },
    {
      "metadata": {
        "id": "eYNDXSupJ5CV",
        "colab_type": "code",
        "colab": {}
      },
      "cell_type": "code",
      "source": [
        ""
      ],
      "execution_count": 0,
      "outputs": []
    },
    {
      "metadata": {
        "id": "S7CdSnpCJ5FF",
        "colab_type": "code",
        "colab": {}
      },
      "cell_type": "code",
      "source": [
        ""
      ],
      "execution_count": 0,
      "outputs": []
    },
    {
      "metadata": {
        "id": "UcOxHZa9J5Ht",
        "colab_type": "code",
        "colab": {}
      },
      "cell_type": "code",
      "source": [
        ""
      ],
      "execution_count": 0,
      "outputs": []
    },
    {
      "metadata": {
        "id": "y3qNuMu_J5Kl",
        "colab_type": "code",
        "colab": {}
      },
      "cell_type": "code",
      "source": [
        ""
      ],
      "execution_count": 0,
      "outputs": []
    },
    {
      "metadata": {
        "id": "nyQzBYD6J5NF",
        "colab_type": "code",
        "colab": {}
      },
      "cell_type": "code",
      "source": [
        ""
      ],
      "execution_count": 0,
      "outputs": []
    }
  ]
}
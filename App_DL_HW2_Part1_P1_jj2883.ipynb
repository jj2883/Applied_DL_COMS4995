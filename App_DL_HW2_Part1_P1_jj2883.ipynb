{
  "nbformat": 4,
  "nbformat_minor": 0,
  "metadata": {
    "colab": {
      "name": "App_DL_HW2_Part1_P1_jj2883.ipynb",
      "version": "0.3.2",
      "provenance": [],
      "collapsed_sections": [],
      "include_colab_link": true
    },
    "kernelspec": {
      "name": "python3",
      "display_name": "Python 3"
    },
    "accelerator": "GPU"
  },
  "cells": [
    {
      "cell_type": "markdown",
      "metadata": {
        "id": "view-in-github",
        "colab_type": "text"
      },
      "source": [
        "<a href=\"https://colab.research.google.com/github/jj2883/Applied_DL_COMS4995/blob/master/App_DL_HW2_Part1_P1_jj2883.ipynb\" target=\"_parent\"><img src=\"https://colab.research.google.com/assets/colab-badge.svg\" alt=\"Open In Colab\"/></a>"
      ]
    },
    {
      "metadata": {
        "id": "weuAoWzzAu_w",
        "colab_type": "code",
        "colab": {}
      },
      "cell_type": "code",
      "source": [
        "import matplotlib.pyplot as plt\n",
        "import numpy as np\n",
        "import os\n",
        "\n",
        "# The code in this notebook should work identically in TF v1 and v2\n",
        "import tensorflow as tf\n",
        "import zipfile\n",
        "\n",
        "from tensorflow.keras.applications import VGG16, ResNet50\n",
        "from tensorflow.keras.layers import Conv2D, Dense, Dropout, Flatten, MaxPooling2D\n",
        "from tensorflow.keras.models import Sequential\n",
        "from tensorflow.keras.preprocessing.image import ImageDataGenerator"
      ],
      "execution_count": 0,
      "outputs": []
    },
    {
      "metadata": {
        "id": "MQw1Nv_LYo1L",
        "colab_type": "code",
        "outputId": "f003fce6-ce67-41f3-89b1-4eebe9dda09b",
        "colab": {
          "base_uri": "https://localhost:8080/",
          "height": 212
        }
      },
      "cell_type": "code",
      "source": [
        "\n",
        "!wget https://storage.googleapis.com/applied-dl/mini_flowers.zip \\\n",
        "    -O /tmp/mini_flowers.zip"
      ],
      "execution_count": 0,
      "outputs": [
        {
          "output_type": "stream",
          "text": [
            "--2019-03-04 19:33:35--  https://storage.googleapis.com/applied-dl/mini_flowers.zip\n",
            "Resolving storage.googleapis.com (storage.googleapis.com)... 108.177.97.128, 2404:6800:4008:c03::80\n",
            "Connecting to storage.googleapis.com (storage.googleapis.com)|108.177.97.128|:443... connected.\n",
            "HTTP request sent, awaiting response... 200 OK\n",
            "Length: 40110537 (38M) [application/zip]\n",
            "Saving to: ‘/tmp/mini_flowers.zip’\n",
            "\n",
            "/tmp/mini_flowers.z 100%[===================>]  38.25M  60.9MB/s    in 0.6s    \n",
            "\n",
            "2019-03-04 19:33:41 (60.9 MB/s) - ‘/tmp/mini_flowers.zip’ saved [40110537/40110537]\n",
            "\n"
          ],
          "name": "stdout"
        }
      ]
    },
    {
      "metadata": {
        "id": "L9NSXQAwBQFy",
        "colab_type": "code",
        "colab": {}
      },
      "cell_type": "code",
      "source": [
        "local_zip = '/tmp/mini_flowers.zip'\n",
        "zip_ref = zipfile.ZipFile(local_zip, 'r')\n",
        "zip_ref.extractall('/tmp/mini_flowers')\n",
        "zip_ref.close()"
      ],
      "execution_count": 0,
      "outputs": []
    },
    {
      "metadata": {
        "id": "LKqy9HGQBQIj",
        "colab_type": "code",
        "colab": {}
      },
      "cell_type": "code",
      "source": [
        "base_dir = '/tmp/mini_flowers'\n",
        "train_dir = os.path.join(base_dir, 'train')\n",
        "validation_dir = os.path.join(base_dir, 'val')\n",
        "\n",
        "train_daisy_dir = os.path.join(train_dir, 'daisy')\n",
        "train_dandelion_dir = os.path.join(train_dir, 'dandelion')\n",
        "train_roses_dir = os.path.join(train_dir, 'roses')\n",
        "train_sunflowers_dir = os.path.join(train_dir, 'sunflowers')\n",
        "train_tulips_dir = os.path.join(train_dir, 'tulips')\n",
        "\n",
        "validation_daisy_dir = os.path.join(validation_dir, 'daisy')\n",
        "validation_dandelion_dir = os.path.join(validation_dir, 'dandelion')\n",
        "validation_roses_dir = os.path.join(validation_dir, 'roses')\n",
        "validation_sunflowers_dir = os.path.join(validation_dir, 'sunflowers')\n",
        "validation_tulips_dir = os.path.join(validation_dir, 'tulips')"
      ],
      "execution_count": 0,
      "outputs": []
    },
    {
      "metadata": {
        "id": "maha4K_3BQLK",
        "colab_type": "code",
        "colab": {}
      },
      "cell_type": "code",
      "source": [
        "num_daisy_tr = len(os.listdir(train_daisy_dir))\n",
        "num_dandelion_tr = len(os.listdir(train_dandelion_dir))\n",
        "num_roses_tr = len(os.listdir(train_roses_dir))\n",
        "num_sunflowers_tr = len(os.listdir(train_sunflowers_dir))\n",
        "num_tulips_tr = len(os.listdir(train_tulips_dir))\n",
        "\n",
        "num_daisy_val = len(os.listdir(validation_daisy_dir))\n",
        "num_dandelion_val = len(os.listdir(validation_dandelion_dir))\n",
        "num_roses_val = len(os.listdir(validation_roses_dir))\n",
        "num_sunflowers_val = len(os.listdir(validation_sunflowers_dir))\n",
        "num_tulips_val = len(os.listdir(validation_tulips_dir))\n",
        "\n",
        "total_train = num_daisy_tr + num_dandelion_tr + num_roses_tr + num_sunflowers_tr+ num_tulips_tr\n",
        "total_val = num_daisy_val + num_dandelion_val + num_roses_val + num_sunflowers_val + num_tulips_val"
      ],
      "execution_count": 0,
      "outputs": []
    },
    {
      "metadata": {
        "id": "MQ65ATMiBQNy",
        "colab_type": "code",
        "outputId": "a989064f-a475-41f4-9806-d54191091fb0",
        "colab": {
          "base_uri": "https://localhost:8080/",
          "height": 247
        }
      },
      "cell_type": "code",
      "source": [
        "print('Training daisy images:', num_daisy_tr)\n",
        "print('Training dandelion images:', num_dandelion_tr)\n",
        "print('Training roses images:', num_roses_tr)\n",
        "print('Training sunflowers images:', num_sunflowers_tr)\n",
        "print('Training tulips images:', num_tulips_tr)\n",
        "\n",
        "print('Validation daisy images:', num_daisy_val)\n",
        "print('TValidation dandelion images:', num_dandelion_val)\n",
        "print('Validation roses images:', num_roses_val)\n",
        "print('Validation sunflowers images:', num_sunflowers_val)\n",
        "print('Validation tulips images:', num_tulips_val)\n",
        "\n",
        "print(\"--\")\n",
        "\n",
        "print(\"Total training images:\", total_train)\n",
        "print(\"Total validation images:\", total_val)"
      ],
      "execution_count": 0,
      "outputs": [
        {
          "output_type": "stream",
          "text": [
            "Training daisy images: 200\n",
            "Training dandelion images: 200\n",
            "Training roses images: 200\n",
            "Training sunflowers images: 200\n",
            "Training tulips images: 200\n",
            "Validation daisy images: 100\n",
            "TValidation dandelion images: 100\n",
            "Validation roses images: 100\n",
            "Validation sunflowers images: 100\n",
            "Validation tulips images: 100\n",
            "--\n",
            "Total training images: 1000\n",
            "Total validation images: 500\n"
          ],
          "name": "stdout"
        }
      ]
    },
    {
      "metadata": {
        "id": "keFJdRQvBrVR",
        "colab_type": "text"
      },
      "cell_type": "markdown",
      "source": [
        "# Part 1 P1 Transfer Learning on VGG16"
      ]
    },
    {
      "metadata": {
        "id": "x8vH3sdcBQQi",
        "colab_type": "code",
        "outputId": "e4bbc516-8198-489a-87ca-67be3e99587e",
        "colab": {
          "base_uri": "https://localhost:8080/",
          "height": 105
        }
      },
      "cell_type": "code",
      "source": [
        "conv_base = VGG16(weights='imagenet',include_top=False, input_shape=(150, 150, 3))\n"
      ],
      "execution_count": 0,
      "outputs": [
        {
          "output_type": "stream",
          "text": [
            "WARNING:tensorflow:From /usr/local/lib/python3.6/dist-packages/tensorflow/python/ops/resource_variable_ops.py:435: colocate_with (from tensorflow.python.framework.ops) is deprecated and will be removed in a future version.\n",
            "Instructions for updating:\n",
            "Colocations handled automatically by placer.\n",
            "Downloading data from https://github.com/fchollet/deep-learning-models/releases/download/v0.1/vgg16_weights_tf_dim_ordering_tf_kernels_notop.h5\n",
            "58892288/58889256 [==============================] - 5s 0us/step\n"
          ],
          "name": "stdout"
        }
      ]
    },
    {
      "metadata": {
        "id": "KUTFiWuQaqcE",
        "colab_type": "code",
        "outputId": "8cfb19ba-7990-4d46-b3f9-1803a9ecabd4",
        "colab": {
          "base_uri": "https://localhost:8080/",
          "height": 816
        }
      },
      "cell_type": "code",
      "source": [
        "conv_base.summary()"
      ],
      "execution_count": 0,
      "outputs": [
        {
          "output_type": "stream",
          "text": [
            "_________________________________________________________________\n",
            "Layer (type)                 Output Shape              Param #   \n",
            "=================================================================\n",
            "input_1 (InputLayer)         (None, 150, 150, 3)       0         \n",
            "_________________________________________________________________\n",
            "block1_conv1 (Conv2D)        (None, 150, 150, 64)      1792      \n",
            "_________________________________________________________________\n",
            "block1_conv2 (Conv2D)        (None, 150, 150, 64)      36928     \n",
            "_________________________________________________________________\n",
            "block1_pool (MaxPooling2D)   (None, 75, 75, 64)        0         \n",
            "_________________________________________________________________\n",
            "block2_conv1 (Conv2D)        (None, 75, 75, 128)       73856     \n",
            "_________________________________________________________________\n",
            "block2_conv2 (Conv2D)        (None, 75, 75, 128)       147584    \n",
            "_________________________________________________________________\n",
            "block2_pool (MaxPooling2D)   (None, 37, 37, 128)       0         \n",
            "_________________________________________________________________\n",
            "block3_conv1 (Conv2D)        (None, 37, 37, 256)       295168    \n",
            "_________________________________________________________________\n",
            "block3_conv2 (Conv2D)        (None, 37, 37, 256)       590080    \n",
            "_________________________________________________________________\n",
            "block3_conv3 (Conv2D)        (None, 37, 37, 256)       590080    \n",
            "_________________________________________________________________\n",
            "block3_pool (MaxPooling2D)   (None, 18, 18, 256)       0         \n",
            "_________________________________________________________________\n",
            "block4_conv1 (Conv2D)        (None, 18, 18, 512)       1180160   \n",
            "_________________________________________________________________\n",
            "block4_conv2 (Conv2D)        (None, 18, 18, 512)       2359808   \n",
            "_________________________________________________________________\n",
            "block4_conv3 (Conv2D)        (None, 18, 18, 512)       2359808   \n",
            "_________________________________________________________________\n",
            "block4_pool (MaxPooling2D)   (None, 9, 9, 512)         0         \n",
            "_________________________________________________________________\n",
            "block5_conv1 (Conv2D)        (None, 9, 9, 512)         2359808   \n",
            "_________________________________________________________________\n",
            "block5_conv2 (Conv2D)        (None, 9, 9, 512)         2359808   \n",
            "_________________________________________________________________\n",
            "block5_conv3 (Conv2D)        (None, 9, 9, 512)         2359808   \n",
            "_________________________________________________________________\n",
            "block5_pool (MaxPooling2D)   (None, 4, 4, 512)         0         \n",
            "=================================================================\n",
            "Total params: 14,714,688\n",
            "Trainable params: 14,714,688\n",
            "Non-trainable params: 0\n",
            "_________________________________________________________________\n"
          ],
          "name": "stdout"
        }
      ]
    },
    {
      "metadata": {
        "id": "-QHoNVB_bbxN",
        "colab_type": "code",
        "colab": {}
      },
      "cell_type": "code",
      "source": [
        "TARGET_SHAPE = 150 \n",
        "BATCH_SIZE = 32"
      ],
      "execution_count": 0,
      "outputs": []
    },
    {
      "metadata": {
        "id": "iPU3sY_Oaqnb",
        "colab_type": "code",
        "colab": {}
      },
      "cell_type": "code",
      "source": [
        "model = Sequential()\n",
        "model.add(conv_base)\n",
        "model.add(Flatten())\n",
        "model.add(Dense(512, activation='relu'))\n",
        "model.add(Dense(5, activation='softmax'))"
      ],
      "execution_count": 0,
      "outputs": []
    },
    {
      "metadata": {
        "id": "B07nTbg4aqpz",
        "colab_type": "code",
        "outputId": "59a1e75a-456f-4f23-eb25-427992b567da",
        "colab": {
          "base_uri": "https://localhost:8080/",
          "height": 283
        }
      },
      "cell_type": "code",
      "source": [
        "model.summary()\n"
      ],
      "execution_count": 0,
      "outputs": [
        {
          "output_type": "stream",
          "text": [
            "_________________________________________________________________\n",
            "Layer (type)                 Output Shape              Param #   \n",
            "=================================================================\n",
            "vgg16 (Model)                (None, 4, 4, 512)         14714688  \n",
            "_________________________________________________________________\n",
            "flatten (Flatten)            (None, 8192)              0         \n",
            "_________________________________________________________________\n",
            "dense (Dense)                (None, 512)               4194816   \n",
            "_________________________________________________________________\n",
            "dense_1 (Dense)              (None, 5)                 2565      \n",
            "=================================================================\n",
            "Total params: 18,912,069\n",
            "Trainable params: 18,912,069\n",
            "Non-trainable params: 0\n",
            "_________________________________________________________________\n"
          ],
          "name": "stdout"
        }
      ]
    },
    {
      "metadata": {
        "id": "Y0EouVfcaqsb",
        "colab_type": "code",
        "colab": {}
      },
      "cell_type": "code",
      "source": [
        "conv_base.trainable = False\n"
      ],
      "execution_count": 0,
      "outputs": []
    },
    {
      "metadata": {
        "id": "3fUE42H1aqvE",
        "colab_type": "code",
        "outputId": "4202a82c-29c9-4584-f228-6edd3b0564d7",
        "colab": {
          "base_uri": "https://localhost:8080/",
          "height": 52
        }
      },
      "cell_type": "code",
      "source": [
        "image_gen_train = ImageDataGenerator(\n",
        "      rescale=1./255,\n",
        "      rotation_range=40,\n",
        "      width_shift_range=0.2,\n",
        "      height_shift_range=0.2,\n",
        "      shear_range=0.2,\n",
        "      zoom_range=0.2,\n",
        "      horizontal_flip=True,\n",
        "      fill_mode='nearest')\n",
        "\n",
        "train_data_gen = image_gen_train.flow_from_directory(\n",
        "    batch_size=BATCH_SIZE, \n",
        "    directory=train_dir, \n",
        "    shuffle=True, \n",
        "    target_size=(TARGET_SHAPE,TARGET_SHAPE),\n",
        "    class_mode='categorical')\n",
        "\n",
        "# Validation data should not be augmented!\n",
        "image_gen_val = ImageDataGenerator(rescale=1./255)\n",
        "val_data_gen = image_gen_val.flow_from_directory(\n",
        "    batch_size=BATCH_SIZE, \n",
        "    directory=validation_dir, \n",
        "    target_size=(TARGET_SHAPE, TARGET_SHAPE),\n",
        "    class_mode='categorical')"
      ],
      "execution_count": 0,
      "outputs": [
        {
          "output_type": "stream",
          "text": [
            "Found 1000 images belonging to 5 classes.\n",
            "Found 500 images belonging to 5 classes.\n"
          ],
          "name": "stdout"
        }
      ]
    },
    {
      "metadata": {
        "id": "ZkKVaCtZb-C5",
        "colab_type": "code",
        "colab": {}
      },
      "cell_type": "code",
      "source": [
        "EPOCHS = 50\n"
      ],
      "execution_count": 0,
      "outputs": []
    },
    {
      "metadata": {
        "id": "PeaLKrspaqxr",
        "colab_type": "code",
        "outputId": "46ba6cd3-e38d-4f91-8655-530147866111",
        "colab": {
          "base_uri": "https://localhost:8080/",
          "height": 2736
        }
      },
      "cell_type": "code",
      "source": [
        "model.compile(loss='categorical_crossentropy',\n",
        "              optimizer='adam',\n",
        "              metrics=['acc'])\n",
        "\n",
        "# Now is a good time for a cup of coffee\n",
        "history = model.fit_generator(\n",
        "      train_data_gen,\n",
        "      steps_per_epoch=int(np.ceil(total_train / float(BATCH_SIZE))),\n",
        "      epochs=EPOCHS,\n",
        "      validation_data=val_data_gen,\n",
        "      validation_steps=int(np.ceil(total_val / float(BATCH_SIZE))),\n",
        "      verbose=2)"
      ],
      "execution_count": 0,
      "outputs": [
        {
          "output_type": "stream",
          "text": [
            "WARNING:tensorflow:From /usr/local/lib/python3.6/dist-packages/tensorflow/python/ops/math_ops.py:3066: to_int32 (from tensorflow.python.ops.math_ops) is deprecated and will be removed in a future version.\n",
            "Instructions for updating:\n",
            "Use tf.cast instead.\n",
            "Epoch 1/50\n",
            "16/16 [==============================] - 4s 249ms/step - loss: 0.8055 - acc: 0.6880\n",
            " - 15s - loss: 1.5865 - acc: 0.4910 - val_loss: 0.8055 - val_acc: 0.6880\n",
            "Epoch 2/50\n",
            "16/16 [==============================] - 3s 159ms/step - loss: 0.6638 - acc: 0.7480\n",
            " - 10s - loss: 0.7351 - acc: 0.7290 - val_loss: 0.6638 - val_acc: 0.7480\n",
            "Epoch 3/50\n",
            "16/16 [==============================] - 3s 162ms/step - loss: 0.6263 - acc: 0.7640\n",
            " - 10s - loss: 0.6438 - acc: 0.7620 - val_loss: 0.6263 - val_acc: 0.7640\n",
            "Epoch 4/50\n",
            "16/16 [==============================] - 3s 161ms/step - loss: 0.6363 - acc: 0.7680\n",
            " - 10s - loss: 0.6137 - acc: 0.7720 - val_loss: 0.6363 - val_acc: 0.7680\n",
            "Epoch 5/50\n",
            "16/16 [==============================] - 3s 160ms/step - loss: 0.5906 - acc: 0.7800\n",
            " - 10s - loss: 0.6010 - acc: 0.7740 - val_loss: 0.5906 - val_acc: 0.7800\n",
            "Epoch 6/50\n",
            "16/16 [==============================] - 3s 159ms/step - loss: 0.7442 - acc: 0.7520\n",
            " - 10s - loss: 0.5468 - acc: 0.8050 - val_loss: 0.7442 - val_acc: 0.7520\n",
            "Epoch 7/50\n",
            "16/16 [==============================] - 3s 159ms/step - loss: 0.6455 - acc: 0.7740\n",
            " - 10s - loss: 0.4870 - acc: 0.8130 - val_loss: 0.6455 - val_acc: 0.7740\n",
            "Epoch 8/50\n",
            "16/16 [==============================] - 3s 160ms/step - loss: 0.6874 - acc: 0.7680\n",
            " - 10s - loss: 0.4642 - acc: 0.8360 - val_loss: 0.6874 - val_acc: 0.7680\n",
            "Epoch 9/50\n",
            "16/16 [==============================] - 3s 160ms/step - loss: 0.6232 - acc: 0.7980\n",
            " - 10s - loss: 0.4168 - acc: 0.8470 - val_loss: 0.6232 - val_acc: 0.7980\n",
            "Epoch 10/50\n",
            "16/16 [==============================] - 3s 160ms/step - loss: 0.6309 - acc: 0.7920\n",
            " - 10s - loss: 0.4196 - acc: 0.8400 - val_loss: 0.6309 - val_acc: 0.7920\n",
            "Epoch 11/50\n",
            "16/16 [==============================] - 3s 160ms/step - loss: 0.6866 - acc: 0.7820\n",
            " - 10s - loss: 0.4313 - acc: 0.8420 - val_loss: 0.6866 - val_acc: 0.7820\n",
            "Epoch 12/50\n",
            "16/16 [==============================] - 3s 160ms/step - loss: 0.6522 - acc: 0.7940\n",
            " - 10s - loss: 0.4024 - acc: 0.8510 - val_loss: 0.6522 - val_acc: 0.7940\n",
            "Epoch 13/50\n",
            "16/16 [==============================] - 3s 160ms/step - loss: 0.6702 - acc: 0.7860\n",
            " - 10s - loss: 0.3843 - acc: 0.8630 - val_loss: 0.6702 - val_acc: 0.7860\n",
            "Epoch 14/50\n",
            "16/16 [==============================] - 3s 161ms/step - loss: 0.6449 - acc: 0.7920\n",
            " - 10s - loss: 0.3331 - acc: 0.8690 - val_loss: 0.6449 - val_acc: 0.7920\n",
            "Epoch 15/50\n",
            "16/16 [==============================] - 3s 160ms/step - loss: 0.7983 - acc: 0.7420\n",
            " - 10s - loss: 0.3880 - acc: 0.8690 - val_loss: 0.7983 - val_acc: 0.7420\n",
            "Epoch 16/50\n",
            "16/16 [==============================] - 3s 159ms/step - loss: 0.6248 - acc: 0.7900\n",
            " - 10s - loss: 0.3794 - acc: 0.8570 - val_loss: 0.6248 - val_acc: 0.7900\n",
            "Epoch 17/50\n",
            "16/16 [==============================] - 3s 161ms/step - loss: 0.6697 - acc: 0.7920\n",
            " - 10s - loss: 0.3614 - acc: 0.8620 - val_loss: 0.6697 - val_acc: 0.7920\n",
            "Epoch 18/50\n",
            "16/16 [==============================] - 3s 161ms/step - loss: 0.7955 - acc: 0.7340\n",
            " - 10s - loss: 0.3888 - acc: 0.8440 - val_loss: 0.7955 - val_acc: 0.7340\n",
            "Epoch 19/50\n",
            "16/16 [==============================] - 3s 161ms/step - loss: 0.6299 - acc: 0.8000\n",
            " - 10s - loss: 0.3439 - acc: 0.8640 - val_loss: 0.6299 - val_acc: 0.8000\n",
            "Epoch 20/50\n",
            "16/16 [==============================] - 3s 159ms/step - loss: 0.6684 - acc: 0.8000\n",
            " - 10s - loss: 0.3358 - acc: 0.8860 - val_loss: 0.6684 - val_acc: 0.8000\n",
            "Epoch 21/50\n",
            "16/16 [==============================] - 3s 160ms/step - loss: 0.6079 - acc: 0.7880\n",
            " - 10s - loss: 0.3276 - acc: 0.8710 - val_loss: 0.6079 - val_acc: 0.7880\n",
            "Epoch 22/50\n",
            "16/16 [==============================] - 3s 159ms/step - loss: 0.7103 - acc: 0.7820\n",
            " - 10s - loss: 0.2507 - acc: 0.9050 - val_loss: 0.7103 - val_acc: 0.7820\n",
            "Epoch 23/50\n",
            "16/16 [==============================] - 3s 159ms/step - loss: 0.7196 - acc: 0.7860\n",
            " - 10s - loss: 0.2473 - acc: 0.9110 - val_loss: 0.7196 - val_acc: 0.7860\n",
            "Epoch 24/50\n",
            "16/16 [==============================] - 3s 161ms/step - loss: 0.6281 - acc: 0.8120\n",
            " - 10s - loss: 0.2300 - acc: 0.9140 - val_loss: 0.6281 - val_acc: 0.8120\n",
            "Epoch 25/50\n",
            "16/16 [==============================] - 3s 161ms/step - loss: 0.5956 - acc: 0.8160\n",
            " - 10s - loss: 0.2417 - acc: 0.9130 - val_loss: 0.5956 - val_acc: 0.8160\n",
            "Epoch 26/50\n",
            "16/16 [==============================] - 3s 159ms/step - loss: 0.8990 - acc: 0.7420\n",
            " - 10s - loss: 0.2531 - acc: 0.9210 - val_loss: 0.8990 - val_acc: 0.7420\n",
            "Epoch 27/50\n",
            "16/16 [==============================] - 3s 159ms/step - loss: 0.8771 - acc: 0.7600\n",
            " - 10s - loss: 0.2682 - acc: 0.9030 - val_loss: 0.8771 - val_acc: 0.7600\n",
            "Epoch 28/50\n",
            "16/16 [==============================] - 3s 160ms/step - loss: 0.7343 - acc: 0.7860\n",
            " - 10s - loss: 0.2864 - acc: 0.8970 - val_loss: 0.7343 - val_acc: 0.7860\n",
            "Epoch 29/50\n",
            "16/16 [==============================] - 3s 160ms/step - loss: 0.6930 - acc: 0.8080\n",
            " - 10s - loss: 0.2661 - acc: 0.8970 - val_loss: 0.6930 - val_acc: 0.8080\n",
            "Epoch 30/50\n",
            "16/16 [==============================] - 3s 161ms/step - loss: 0.6340 - acc: 0.8040\n",
            " - 10s - loss: 0.2499 - acc: 0.9010 - val_loss: 0.6340 - val_acc: 0.8040\n",
            "Epoch 31/50\n",
            "16/16 [==============================] - 3s 159ms/step - loss: 0.6415 - acc: 0.8120\n",
            " - 10s - loss: 0.2313 - acc: 0.9110 - val_loss: 0.6415 - val_acc: 0.8120\n",
            "Epoch 32/50\n",
            "16/16 [==============================] - 3s 161ms/step - loss: 0.7123 - acc: 0.8040\n",
            " - 10s - loss: 0.2065 - acc: 0.9260 - val_loss: 0.7123 - val_acc: 0.8040\n",
            "Epoch 33/50\n",
            "16/16 [==============================] - 3s 161ms/step - loss: 0.8041 - acc: 0.7760\n",
            " - 10s - loss: 0.2290 - acc: 0.9150 - val_loss: 0.8041 - val_acc: 0.7760\n",
            "Epoch 34/50\n",
            "16/16 [==============================] - 3s 161ms/step - loss: 0.7215 - acc: 0.8040\n",
            " - 10s - loss: 0.2139 - acc: 0.9120 - val_loss: 0.7215 - val_acc: 0.8040\n",
            "Epoch 35/50\n",
            "16/16 [==============================] - 3s 160ms/step - loss: 0.7893 - acc: 0.7980\n",
            " - 10s - loss: 0.2083 - acc: 0.9100 - val_loss: 0.7893 - val_acc: 0.7980\n",
            "Epoch 36/50\n",
            "16/16 [==============================] - 3s 159ms/step - loss: 0.6545 - acc: 0.7980\n",
            " - 10s - loss: 0.1974 - acc: 0.9330 - val_loss: 0.6545 - val_acc: 0.7980\n",
            "Epoch 37/50\n",
            "16/16 [==============================] - 3s 161ms/step - loss: 0.7292 - acc: 0.8040\n",
            " - 10s - loss: 0.1913 - acc: 0.9320 - val_loss: 0.7292 - val_acc: 0.8040\n",
            "Epoch 38/50\n",
            "16/16 [==============================] - 3s 161ms/step - loss: 0.7194 - acc: 0.7980\n",
            " - 10s - loss: 0.2065 - acc: 0.9210 - val_loss: 0.7194 - val_acc: 0.7980\n",
            "Epoch 39/50\n",
            "16/16 [==============================] - 3s 158ms/step - loss: 0.7684 - acc: 0.7860\n",
            " - 10s - loss: 0.2026 - acc: 0.9240 - val_loss: 0.7684 - val_acc: 0.7860\n",
            "Epoch 40/50\n",
            "16/16 [==============================] - 3s 163ms/step - loss: 0.7169 - acc: 0.8100\n",
            " - 10s - loss: 0.1601 - acc: 0.9340 - val_loss: 0.7169 - val_acc: 0.8100\n",
            "Epoch 41/50\n",
            "16/16 [==============================] - 3s 160ms/step - loss: 0.6838 - acc: 0.8180\n",
            " - 10s - loss: 0.1525 - acc: 0.9480 - val_loss: 0.6838 - val_acc: 0.8180\n",
            "Epoch 42/50\n",
            "16/16 [==============================] - 3s 159ms/step - loss: 0.7694 - acc: 0.7800\n",
            " - 10s - loss: 0.1555 - acc: 0.9430 - val_loss: 0.7694 - val_acc: 0.7800\n",
            "Epoch 43/50\n",
            "16/16 [==============================] - 3s 160ms/step - loss: 0.6553 - acc: 0.8240\n",
            " - 10s - loss: 0.1691 - acc: 0.9430 - val_loss: 0.6553 - val_acc: 0.8240\n",
            "Epoch 44/50\n",
            "16/16 [==============================] - 3s 160ms/step - loss: 0.6449 - acc: 0.8140\n",
            " - 10s - loss: 0.1699 - acc: 0.9400 - val_loss: 0.6449 - val_acc: 0.8140\n",
            "Epoch 45/50\n",
            "16/16 [==============================] - 3s 160ms/step - loss: 0.7397 - acc: 0.8100\n",
            " - 10s - loss: 0.1937 - acc: 0.9290 - val_loss: 0.7397 - val_acc: 0.8100\n",
            "Epoch 46/50\n",
            "16/16 [==============================] - 3s 160ms/step - loss: 0.6943 - acc: 0.8140\n",
            " - 10s - loss: 0.1752 - acc: 0.9330 - val_loss: 0.6943 - val_acc: 0.8140\n",
            "Epoch 47/50\n",
            "16/16 [==============================] - 3s 158ms/step - loss: 0.7049 - acc: 0.8120\n",
            " - 10s - loss: 0.1542 - acc: 0.9400 - val_loss: 0.7049 - val_acc: 0.8120\n",
            "Epoch 48/50\n",
            "16/16 [==============================] - 3s 160ms/step - loss: 0.8185 - acc: 0.8040\n",
            " - 10s - loss: 0.1553 - acc: 0.9400 - val_loss: 0.8185 - val_acc: 0.8040\n",
            "Epoch 49/50\n",
            "16/16 [==============================] - 3s 162ms/step - loss: 0.6308 - acc: 0.8320\n",
            " - 10s - loss: 0.1841 - acc: 0.9330 - val_loss: 0.6308 - val_acc: 0.8320\n",
            "Epoch 50/50\n",
            "16/16 [==============================] - 3s 160ms/step - loss: 0.6773 - acc: 0.8220\n",
            " - 10s - loss: 0.1307 - acc: 0.9580 - val_loss: 0.6773 - val_acc: 0.8220\n"
          ],
          "name": "stdout"
        }
      ]
    },
    {
      "metadata": {
        "id": "1BjJ4R_uaq0r",
        "colab_type": "code",
        "outputId": "c6e4819f-4a94-4504-dd26-ff91c1054603",
        "colab": {
          "base_uri": "https://localhost:8080/",
          "height": 497
        }
      },
      "cell_type": "code",
      "source": [
        "acc = history.history['acc']\n",
        "val_acc = history.history['val_acc']\n",
        "\n",
        "loss = history.history['loss']\n",
        "val_loss = history.history['val_loss']\n",
        "\n",
        "epochs_range = range(1, EPOCHS+1)\n",
        "\n",
        "plt.figure(figsize=(8, 8))\n",
        "plt.subplot(1, 2, 1)\n",
        "plt.plot(epochs_range, acc, label='Training Accuracy')\n",
        "plt.plot(epochs_range, val_acc, label='Validation Accuracy')\n",
        "plt.legend(loc='lower right')\n",
        "plt.title('Training and Validation Accuracy')\n",
        "\n",
        "plt.subplot(1, 2, 2)\n",
        "plt.plot(epochs_range, loss, label='Training Loss')\n",
        "plt.plot(epochs_range, val_loss, label='Validation Loss')\n",
        "plt.legend(loc='upper right')\n",
        "plt.title('Training and Validation Loss')\n",
        "plt.show()"
      ],
      "execution_count": 0,
      "outputs": [
        {
          "output_type": "display_data",
          "data": {
            "image/png": "[encoded data removed]",
            "text/plain": [
              "<Figure size 576x576 with 2 Axes>"
            ]
          },
          "metadata": {
            "tags": []
          }
        }
      ]
    },
    {
      "metadata": {
        "id": "g7hKvrpSp3Ls",
        "colab_type": "text"
      },
      "cell_type": "markdown",
      "source": [
        "## Result\n",
        "The maximum training accuracy achieved is 0.958 and the maximum validation accuracy achieved is 0.83 using a transfer learning on the VGG16 model."
      ]
    }
  ]
}